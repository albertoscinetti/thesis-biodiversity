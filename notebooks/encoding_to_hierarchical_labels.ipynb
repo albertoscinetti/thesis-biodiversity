{
 "cells": [
  {
   "cell_type": "code",
   "execution_count": null,
   "id": "6601290c",
   "metadata": {},
   "outputs": [],
   "source": [
    "from s2sphere import CellId\n",
    "import pandas as pd\n",
    "\n",
    "df = pd.read_csv('df_for_model.csv')\n",
    "\n",
    "def cellid_to_hierarchical_path(token):\n",
    "    \"\"\"\n",
    "    Decode S2 cell token into hierarchical string:\n",
    "    - First digit: face (0–5)\n",
    "    - Remaining: sequence of quad directions (0–3), one per level\n",
    "    \"\"\"\n",
    "    cell = CellId.from_token(token)\n",
    "    face = cell.face()\n",
    "    level = cell.level()\n",
    "    cell_id = cell.id()\n",
    "\n",
    "    path = str(face)\n",
    "    # S2 uses 2 bits per level, starting from bit 61 (after 3 face bits)\n",
    "    for l in range(1, level + 1):\n",
    "        shift = 2 * (30 - l)\n",
    "        direction = (cell_id >> shift) & 0b11\n",
    "        path += str(direction)\n",
    "\n",
    "    return path"
   ]
  },
  {
   "cell_type": "code",
   "execution_count": null,
   "id": "052e41b7",
   "metadata": {},
   "outputs": [],
   "source": [
    "df['hierarchical_label'] = df['adaptive_cell_token'].astype(str).apply(cellid_to_hierarchical_path)"
   ]
  },
  {
   "cell_type": "code",
   "execution_count": null,
   "id": "0362991d",
   "metadata": {},
   "outputs": [],
   "source": [
    "df.to_csv('df_for_model_with_hierarchical.csv')"
   ]
  }
 ],
 "metadata": {
  "kernelspec": {
   "display_name": "thesis",
   "language": "python",
   "name": "python3"
  },
  "language_info": {
   "name": "python",
   "version": "3.12.9"
  }
 },
 "nbformat": 4,
 "nbformat_minor": 5
}

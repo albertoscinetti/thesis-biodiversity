{
  "cells": [
    {
      "cell_type": "code",
      "execution_count": null,
      "metadata": {
        "colab": {
          "base_uri": "https://localhost:8080/"
        },
        "collapsed": true,
        "id": "_pTYd-21s-hx",
        "outputId": "66125cef-34b5-4754-f0d6-6d486e92c842"
      },
      "outputs": [
        {
          "name": "stdout",
          "output_type": "stream",
          "text": [
            "Requirement already satisfied: s2sphere in /usr/local/lib/python3.11/dist-packages (0.2.5)\n",
            "Requirement already satisfied: future>=0.15 in /usr/local/lib/python3.11/dist-packages (from s2sphere) (1.0.0)\n"
          ]
        }
      ],
      "source": [
        "from transformers import AutoTokenizer, AutoModelForSeq2SeqLM\n",
        "import pandas as pd\n",
        "from torch.utils.data import DataLoader\n",
        "from sklearn.metrics import accuracy_score\n",
        "import torch\n",
        "from tqdm import tqdm\n",
        "from transformers import AutoTokenizer, AutoModelForSeq2SeqLM, Seq2SeqTrainingArguments, Seq2SeqTrainer, DataCollatorForSeq2Seq\n",
        "!pip install s2sphere\n",
        "from s2sphere import CellId\n",
        "from sklearn.model_selection import train_test_split\n",
        "from torch.utils.data import DataLoader, Dataset\n",
        "\n"
      ]
    },
    {
      "cell_type": "code",
      "execution_count": 8,
      "metadata": {
        "colab": {
          "base_uri": "https://localhost:8080/"
        },
        "id": "FUqnEquwVJfr",
        "outputId": "20a3f1cd-486d-4974-8198-8fb16aac38c0"
      },
      "outputs": [
        {
          "name": "stdout",
          "output_type": "stream",
          "text": [
            "Archive:  fine_tuned_model.zip\n",
            "  inflating: fine_tuned_model/tokenizer.json  \n",
            "  inflating: fine_tuned_model/__MACOSX/._tokenizer.json  \n",
            "  inflating: fine_tuned_model/model.safetensors  \n",
            "  inflating: fine_tuned_model/__MACOSX/._model.safetensors  \n",
            "  inflating: fine_tuned_model/tokenizer_config.json  \n",
            "  inflating: fine_tuned_model/__MACOSX/._tokenizer_config.json  \n",
            "  inflating: fine_tuned_model/spiece.model  \n",
            "  inflating: fine_tuned_model/__MACOSX/._spiece.model  \n",
            "  inflating: fine_tuned_model/special_tokens_map.json  \n",
            "  inflating: fine_tuned_model/__MACOSX/._special_tokens_map.json  \n",
            "  inflating: fine_tuned_model/generation_config.json  \n",
            "  inflating: fine_tuned_model/__MACOSX/._generation_config.json  \n",
            "  inflating: fine_tuned_model/config.json  \n",
            "  inflating: fine_tuned_model/__MACOSX/._config.json  \n"
          ]
        }
      ],
      "source": [
        "!unzip fine_tuned_model.zip -d fine_tuned_model"
      ]
    },
    {
      "cell_type": "code",
      "execution_count": null,
      "metadata": {
        "colab": {
          "base_uri": "https://localhost:8080/"
        },
        "collapsed": true,
        "id": "j8Ll0Vt84-Vk",
        "outputId": "2f840a72-08ba-4514-ab7c-fcdb325fa11a"
      },
      "outputs": [
        {
          "data": {
            "text/plain": [
              "T5ForConditionalGeneration(\n",
              "  (shared): Embedding(32128, 512)\n",
              "  (encoder): T5Stack(\n",
              "    (embed_tokens): Embedding(32128, 512)\n",
              "    (block): ModuleList(\n",
              "      (0): T5Block(\n",
              "        (layer): ModuleList(\n",
              "          (0): T5LayerSelfAttention(\n",
              "            (SelfAttention): T5Attention(\n",
              "              (q): Linear(in_features=512, out_features=384, bias=False)\n",
              "              (k): Linear(in_features=512, out_features=384, bias=False)\n",
              "              (v): Linear(in_features=512, out_features=384, bias=False)\n",
              "              (o): Linear(in_features=384, out_features=512, bias=False)\n",
              "              (relative_attention_bias): Embedding(32, 6)\n",
              "            )\n",
              "            (layer_norm): T5LayerNorm()\n",
              "            (dropout): Dropout(p=0.1, inplace=False)\n",
              "          )\n",
              "          (1): T5LayerFF(\n",
              "            (DenseReluDense): T5DenseGatedActDense(\n",
              "              (wi_0): Linear(in_features=512, out_features=1024, bias=False)\n",
              "              (wi_1): Linear(in_features=512, out_features=1024, bias=False)\n",
              "              (wo): Linear(in_features=1024, out_features=512, bias=False)\n",
              "              (dropout): Dropout(p=0.1, inplace=False)\n",
              "              (act): NewGELUActivation()\n",
              "            )\n",
              "            (layer_norm): T5LayerNorm()\n",
              "            (dropout): Dropout(p=0.1, inplace=False)\n",
              "          )\n",
              "        )\n",
              "      )\n",
              "      (1-7): 7 x T5Block(\n",
              "        (layer): ModuleList(\n",
              "          (0): T5LayerSelfAttention(\n",
              "            (SelfAttention): T5Attention(\n",
              "              (q): Linear(in_features=512, out_features=384, bias=False)\n",
              "              (k): Linear(in_features=512, out_features=384, bias=False)\n",
              "              (v): Linear(in_features=512, out_features=384, bias=False)\n",
              "              (o): Linear(in_features=384, out_features=512, bias=False)\n",
              "            )\n",
              "            (layer_norm): T5LayerNorm()\n",
              "            (dropout): Dropout(p=0.1, inplace=False)\n",
              "          )\n",
              "          (1): T5LayerFF(\n",
              "            (DenseReluDense): T5DenseGatedActDense(\n",
              "              (wi_0): Linear(in_features=512, out_features=1024, bias=False)\n",
              "              (wi_1): Linear(in_features=512, out_features=1024, bias=False)\n",
              "              (wo): Linear(in_features=1024, out_features=512, bias=False)\n",
              "              (dropout): Dropout(p=0.1, inplace=False)\n",
              "              (act): NewGELUActivation()\n",
              "            )\n",
              "            (layer_norm): T5LayerNorm()\n",
              "            (dropout): Dropout(p=0.1, inplace=False)\n",
              "          )\n",
              "        )\n",
              "      )\n",
              "    )\n",
              "    (final_layer_norm): T5LayerNorm()\n",
              "    (dropout): Dropout(p=0.1, inplace=False)\n",
              "  )\n",
              "  (decoder): T5Stack(\n",
              "    (embed_tokens): Embedding(32128, 512)\n",
              "    (block): ModuleList(\n",
              "      (0): T5Block(\n",
              "        (layer): ModuleList(\n",
              "          (0): T5LayerSelfAttention(\n",
              "            (SelfAttention): T5Attention(\n",
              "              (q): Linear(in_features=512, out_features=384, bias=False)\n",
              "              (k): Linear(in_features=512, out_features=384, bias=False)\n",
              "              (v): Linear(in_features=512, out_features=384, bias=False)\n",
              "              (o): Linear(in_features=384, out_features=512, bias=False)\n",
              "              (relative_attention_bias): Embedding(32, 6)\n",
              "            )\n",
              "            (layer_norm): T5LayerNorm()\n",
              "            (dropout): Dropout(p=0.1, inplace=False)\n",
              "          )\n",
              "          (1): T5LayerCrossAttention(\n",
              "            (EncDecAttention): T5Attention(\n",
              "              (q): Linear(in_features=512, out_features=384, bias=False)\n",
              "              (k): Linear(in_features=512, out_features=384, bias=False)\n",
              "              (v): Linear(in_features=512, out_features=384, bias=False)\n",
              "              (o): Linear(in_features=384, out_features=512, bias=False)\n",
              "            )\n",
              "            (layer_norm): T5LayerNorm()\n",
              "            (dropout): Dropout(p=0.1, inplace=False)\n",
              "          )\n",
              "          (2): T5LayerFF(\n",
              "            (DenseReluDense): T5DenseGatedActDense(\n",
              "              (wi_0): Linear(in_features=512, out_features=1024, bias=False)\n",
              "              (wi_1): Linear(in_features=512, out_features=1024, bias=False)\n",
              "              (wo): Linear(in_features=1024, out_features=512, bias=False)\n",
              "              (dropout): Dropout(p=0.1, inplace=False)\n",
              "              (act): NewGELUActivation()\n",
              "            )\n",
              "            (layer_norm): T5LayerNorm()\n",
              "            (dropout): Dropout(p=0.1, inplace=False)\n",
              "          )\n",
              "        )\n",
              "      )\n",
              "      (1-7): 7 x T5Block(\n",
              "        (layer): ModuleList(\n",
              "          (0): T5LayerSelfAttention(\n",
              "            (SelfAttention): T5Attention(\n",
              "              (q): Linear(in_features=512, out_features=384, bias=False)\n",
              "              (k): Linear(in_features=512, out_features=384, bias=False)\n",
              "              (v): Linear(in_features=512, out_features=384, bias=False)\n",
              "              (o): Linear(in_features=384, out_features=512, bias=False)\n",
              "            )\n",
              "            (layer_norm): T5LayerNorm()\n",
              "            (dropout): Dropout(p=0.1, inplace=False)\n",
              "          )\n",
              "          (1): T5LayerCrossAttention(\n",
              "            (EncDecAttention): T5Attention(\n",
              "              (q): Linear(in_features=512, out_features=384, bias=False)\n",
              "              (k): Linear(in_features=512, out_features=384, bias=False)\n",
              "              (v): Linear(in_features=512, out_features=384, bias=False)\n",
              "              (o): Linear(in_features=384, out_features=512, bias=False)\n",
              "            )\n",
              "            (layer_norm): T5LayerNorm()\n",
              "            (dropout): Dropout(p=0.1, inplace=False)\n",
              "          )\n",
              "          (2): T5LayerFF(\n",
              "            (DenseReluDense): T5DenseGatedActDense(\n",
              "              (wi_0): Linear(in_features=512, out_features=1024, bias=False)\n",
              "              (wi_1): Linear(in_features=512, out_features=1024, bias=False)\n",
              "              (wo): Linear(in_features=1024, out_features=512, bias=False)\n",
              "              (dropout): Dropout(p=0.1, inplace=False)\n",
              "              (act): NewGELUActivation()\n",
              "            )\n",
              "            (layer_norm): T5LayerNorm()\n",
              "            (dropout): Dropout(p=0.1, inplace=False)\n",
              "          )\n",
              "        )\n",
              "      )\n",
              "    )\n",
              "    (final_layer_norm): T5LayerNorm()\n",
              "    (dropout): Dropout(p=0.1, inplace=False)\n",
              "  )\n",
              "  (lm_head): Linear(in_features=512, out_features=32128, bias=False)\n",
              ")"
            ]
          },
          "execution_count": 3,
          "metadata": {},
          "output_type": "execute_result"
        }
      ],
      "source": [
        "model_path = \"fine_tuned_model\"  # folder with config.json and pytorch_model.bin\n",
        "tokenizer = AutoTokenizer.from_pretrained(model_path)\n",
        "model = AutoModelForSeq2SeqLM.from_pretrained(model_path)\n",
        "model.eval()  # inference mode"
      ]
    },
    {
      "cell_type": "code",
      "execution_count": null,
      "metadata": {
        "id": "NojZNamc6HKc"
      },
      "outputs": [],
      "source": [
        "df = pd.read_csv('df_for_model_with_hierarchical.csv')\n",
        "#df = df.sample(n=1000000, random_state=42)"
      ]
    },
    {
      "cell_type": "code",
      "execution_count": null,
      "metadata": {
        "id": "0AYozkbK6lkT"
      },
      "outputs": [],
      "source": [
        "# split\n",
        "\n",
        "df_train, df_val = train_test_split(df, test_size=0.2, random_state=42)\n",
        "#df_val = df_val[:1000]# now just doing this for 10000 instances"
      ]
    },
    {
      "cell_type": "code",
      "execution_count": null,
      "metadata": {
        "colab": {
          "base_uri": "https://localhost:8080/",
          "height": 408
        },
        "id": "AM5-NusVCaCJ",
        "outputId": "5f1d5f37-d7e9-4318-bab4-bd37e8c8de5d"
      },
      "outputs": [],
      "source": [
        "# dataset loader \n",
        "\n",
        "class TextDataset(Dataset):\n",
        "    def __init__(self, texts):\n",
        "        self.texts = [\"predict cell token: \" + t for t in texts]\n",
        "\n",
        "    def __len__(self):\n",
        "        return len(self.texts)\n",
        "\n",
        "    def __getitem__(self, idx):\n",
        "        return self.texts[idx]\n",
        "\n",
        "def collate_fn(batch):\n",
        "    return tokenizer(batch, return_tensors=\"pt\", padding=True, truncation=True, max_length=512)\n",
        "\n",
        "# setup\n",
        "device = torch.device(\"cuda\" if torch.cuda.is_available() else \"cpu\")\n",
        "model.to(device)\n",
        "model.eval()\n",
        "\n",
        "# prepare dataset and dataloader\n",
        "inputs = df_val[\"text_combined\"].tolist()\n",
        "dataset = TextDataset(inputs)\n",
        "val_dataloader = DataLoader(dataset, batch_size=32, collate_fn=collate_fn)\n",
        "\n",
        "pred_labels = []\n",
        "\n",
        "# generate predicitons \n",
        "print(\"Generating predictions...\")\n",
        "for batch in tqdm(val_dataloader):\n",
        "    batch = {k: v.to(device) for k, v in batch.items()}\n",
        "    with torch.no_grad():\n",
        "        output_ids = model.generate(**batch, max_length=16)\n",
        "\n",
        "    decoded = tokenizer.batch_decode(output_ids, skip_special_tokens=True)\n",
        "    pred_labels.extend(decoded)\n"
      ]
    },
    {
      "cell_type": "code",
      "execution_count": null,
      "metadata": {
        "id": "AWWkt4DCeR0f"
      },
      "outputs": [],
      "source": [
        "df_val['pred_labels'] = pred_labels"
      ]
    },
    {
      "cell_type": "markdown",
      "metadata": {},
      "source": [
        "### Accuracy "
      ]
    },
    {
      "cell_type": "code",
      "execution_count": null,
      "metadata": {
        "colab": {
          "base_uri": "https://localhost:8080/"
        },
        "id": "T4tMs8W4eTRd",
        "outputId": "1d1aae85-a768-48d8-a727-8885a1cb67d0"
      },
      "outputs": [
        {
          "name": "stdout",
          "output_type": "stream",
          "text": [
            "\n",
            "✅ Finished! Validation Accuracy: 0.5492\n"
          ]
        }
      ],
      "source": [
        "\n",
        "labels = df_val[\"hierarchical_label\"].tolist()\n",
        "predictions = df_val[\"pred_labels\"].tolist()\n",
        "\n",
        "labels_str = list(map(str, labels))\n",
        "preds_str = list(map(str, predictions))\n",
        "\n",
        "# Compute accuracy\n",
        "accuracy = accuracy_score(labels_str, preds_str)\n",
        "print(f\"\\n✅ Finished! Validation Accuracy: {accuracy:.4f}\")"
      ]
    },
    {
      "cell_type": "markdown",
      "metadata": {},
      "source": [
        "### Hierarchical Metrics"
      ]
    },
    {
      "cell_type": "code",
      "execution_count": null,
      "metadata": {
        "colab": {
          "base_uri": "https://localhost:8080/"
        },
        "id": "t_Wi4lyTiZBQ",
        "outputId": "7a223f13-e93c-4f5c-d615-e728b49dbd0e"
      },
      "outputs": [
        {
          "name": "stdout",
          "output_type": "stream",
          "text": [
            "Hierarchical Precision (hP): 0.7824\n",
            "Hierarchical Recall (hR): 0.7973\n",
            "Hierarchical F1 (hF): 0.7898\n"
          ]
        }
      ],
      "source": [
        "# HIERARCHICAL EVALUATION FROM HIERARCHICAL LABELS\n",
        "def hierarchical_precision(true_labels, pred_labels):\n",
        "    total_overlap = 0\n",
        "    total_predicted_levels = 0\n",
        "\n",
        "    for t, p in zip(true_labels, pred_labels):\n",
        "        true_prefixes = {t[:i+1] for i in range(len(t))}\n",
        "        pred_prefixes = {p[:i+1] for i in range(len(p))}\n",
        "\n",
        "        total_overlap += len(pred_prefixes & true_prefixes)\n",
        "        total_predicted_levels += len(pred_prefixes)\n",
        "\n",
        "    return total_overlap / total_predicted_levels if total_predicted_levels > 0 else 0.0\n",
        "\n",
        "\n",
        "def hierarchical_recall(true_labels, pred_labels):\n",
        "    total_overlap = 0\n",
        "    total_true_levels = 0\n",
        "\n",
        "    for t, p in zip(true_labels, pred_labels):\n",
        "        true_prefixes = {t[:i+1] for i in range(len(t))}\n",
        "        pred_prefixes = {p[:i+1] for i in range(len(p))}\n",
        "\n",
        "        total_overlap += len(pred_prefixes & true_prefixes)\n",
        "        total_true_levels += len(true_prefixes)\n",
        "\n",
        "    return total_overlap / total_true_levels if total_true_levels > 0 else 0.0\n",
        "\n",
        "\n",
        "def hierarchical_f1(hP, hR):\n",
        "    return 2 * hP * hR / (hP + hR) if (hP + hR) > 0 else 0.0\n",
        "\n",
        "# Ensure the columns are strings\n",
        "true_labels = df_val[\"hierarchical_label\"].astype(str)\n",
        "pred_labels = df_val[\"pred_labels\"].astype(str)\n",
        "\n",
        "# Compute hierarchical metrics\n",
        "hP = hierarchical_precision(true_labels, pred_labels)\n",
        "hR = hierarchical_recall(true_labels, pred_labels)\n",
        "hF = hierarchical_f1(hP, hR)\n",
        "\n",
        "# Display results\n",
        "print(f\"Hierarchical Precision (hP): {hP:.4f}\")\n",
        "print(f\"Hierarchical Recall (hR): {hR:.4f}\")\n",
        "print(f\"Hierarchical F1 (hF): {hF:.4f}\")\n",
        "\n"
      ]
    },
    {
      "cell_type": "markdown",
      "metadata": {},
      "source": [
        "### Hierarchical precision per level\n"
      ]
    },
    {
      "cell_type": "code",
      "execution_count": null,
      "metadata": {
        "colab": {
          "base_uri": "https://localhost:8080/"
        },
        "id": "nGDW_9tPZ3cv",
        "outputId": "4c52b4e8-7466-498c-add7-21317d8c1560"
      },
      "outputs": [
        {
          "name": "stdout",
          "output_type": "stream",
          "text": [
            "Level 0 Precision: 0.9725\n",
            "Level 1 Precision: 0.9500\n",
            "Level 2 Precision: 0.9221\n",
            "Level 3 Precision: 0.8807\n",
            "Level 4 Precision: 0.8403\n",
            "Level 5 Precision: 0.8013\n",
            "Level 6 Precision: 0.7646\n",
            "Level 7 Precision: 0.7382\n",
            "Level 8 Precision: 0.7407\n",
            "Level 9 Precision: 0.7689\n",
            "Level 10 Precision: 0.8568\n"
          ]
        }
      ],
      "source": [
        "def hierarchical_precision_per_level(true_labels, pred_labels, max_level=10):\n",
        "    correct_by_level = [0] * (max_level + 1)\n",
        "    total_by_level = [0] * (max_level + 1)\n",
        "\n",
        "    for t, p in zip(true_labels, pred_labels):\n",
        "        for lvl in range(min(len(t), len(p))):\n",
        "            if t[lvl] == p[lvl]:\n",
        "                correct_by_level[lvl] += 1\n",
        "            total_by_level[lvl] += 1\n",
        "\n",
        "    precision_by_level = {}\n",
        "    for lvl in range(max_level + 1):\n",
        "        if total_by_level[lvl] == 0:\n",
        "            precision_by_level[f\"Level {lvl} Precision\"] = None\n",
        "        else:\n",
        "            precision_by_level[f\"Level {lvl} Precision\"] = correct_by_level[lvl] / total_by_level[lvl]\n",
        "\n",
        "    return precision_by_level\n",
        "\n",
        "\n",
        "# Compute precision at each level\n",
        "level_precisions = hierarchical_precision_per_level(true_labels, pred_labels)\n",
        "\n",
        "# Print nicely\n",
        "for lvl, score in level_precisions.items():\n",
        "    print(f\"{lvl}: {score:.4f}\" if score is not None else f\"{lvl}: No predictions\")\n"
      ]
    },
    {
      "cell_type": "markdown",
      "metadata": {
        "id": "__zFdcUUhKfD"
      },
      "source": [
        "### SHAP\n"
      ]
    },
    {
      "cell_type": "code",
      "execution_count": null,
      "metadata": {
        "colab": {
          "base_uri": "https://localhost:8080/"
        },
        "id": "UZ6Dibm1IhCk",
        "outputId": "4d6f2dd1-bd93-4ddf-a975-585d6a508a78"
      },
      "outputs": [
        {
          "name": "stdout",
          "output_type": "stream",
          "text": [
            "True LAbel: 2011313213\n",
            "🎯 Original Prediction: 2011313213\n",
            "\n",
            "🔍 Token influence (✔ = changed prediction):\n",
            "\n",
            "Specimen:       → 2011313213       \n",
            "Batis           → 2011313213       \n",
            "crypta          → 2011313213       \n",
            "Fjeldsa,        → 2011313213       \n",
            "Bowie           → 2011313213       \n",
            "&               → 2011313213       \n",
            "Kiure,          → 2011313213       \n",
            "2006.           → 2011313213       \n",
            "Collected       → 2011313213       \n",
            "by              → 2011313213       \n",
            "Andersen,       → 2011313213       \n",
            "Thorkild        → 2011313213       \n",
            "on              → 2011313213       \n",
            "1948-10-23      → 2011313213       \n",
            "in              → 2011313213       \n",
            "Uluguru         → 2003200111      ✔\n",
            "Mts.,           → 2011313213       \n",
            "Unkn,           → 2011313213       \n",
            "Tanzania.       → 3203112023      ✔\n",
            "Discipline:     → 2011313213       \n",
            "Zoology.        → 2011313213       \n"
          ]
        },
        {
          "data": {
            "text/plain": [
              "[('Specimen:', False, '2011313213'),\n",
              " ('Batis', False, '2011313213'),\n",
              " ('crypta', False, '2011313213'),\n",
              " ('Fjeldsa,', False, '2011313213'),\n",
              " ('Bowie', False, '2011313213'),\n",
              " ('&', False, '2011313213'),\n",
              " ('Kiure,', False, '2011313213'),\n",
              " ('2006.', False, '2011313213'),\n",
              " ('Collected', False, '2011313213'),\n",
              " ('by', False, '2011313213'),\n",
              " ('Andersen,', False, '2011313213'),\n",
              " ('Thorkild', False, '2011313213'),\n",
              " ('on', False, '2011313213'),\n",
              " ('1948-10-23', False, '2011313213'),\n",
              " ('in', False, '2011313213'),\n",
              " ('Uluguru', True, '2003200111'),\n",
              " ('Mts.,', False, '2011313213'),\n",
              " ('Unkn,', False, '2011313213'),\n",
              " ('Tanzania.', True, '3203112023'),\n",
              " ('Discipline:', False, '2011313213'),\n",
              " ('Zoology.', False, '2011313213')]"
            ]
          },
          "execution_count": 11,
          "metadata": {},
          "output_type": "execute_result"
        }
      ],
      "source": [
        "# Able to see which token is more important when doing predictions!!\n",
        "def lime_style_token_importance(text, model, tokenizer, device, max_length=16):\n",
        "    full_input =  text\n",
        "    inputs = tokenizer([full_input], return_tensors=\"pt\", truncation=True, padding=True).to(device)\n",
        "\n",
        "    with torch.no_grad():\n",
        "        output_ids = model.generate(**inputs, max_length=max_length)\n",
        "    original_label = tokenizer.decode(output_ids[0], skip_special_tokens=True)\n",
        "\n",
        "    print(f\"Original Prediction: {original_label}\")\n",
        "\n",
        "    tokens = text.split()\n",
        "    results = []\n",
        "\n",
        "    for i in range(len(tokens)):\n",
        "        perturbed = tokens[:i] + [\"[MASK]\"] + tokens[i+1:]\n",
        "        perturbed_text = \" \".join(perturbed)\n",
        "        full_perturbed_input = \"predict cell token: \" + perturbed_text\n",
        "\n",
        "        inputs = tokenizer([full_perturbed_input], return_tensors=\"pt\", truncation=True, padding=True).to(device)\n",
        "        with torch.no_grad():\n",
        "            output_ids = model.generate(**inputs, max_length=max_length)\n",
        "        new_label = tokenizer.decode(output_ids[0], skip_special_tokens=True)\n",
        "\n",
        "        changed = new_label != original_label\n",
        "        results.append((tokens[i], changed, new_label))\n",
        "\n",
        "    print(\"\\n🔍 Token influence (✔ = changed prediction):\\n\")\n",
        "    for word, changed, new_output in results:\n",
        "        mark = \"✔\" if changed else \" \"\n",
        "        print(f\"{word:15} → {new_output:15} {mark}\")\n",
        "\n",
        "    return results\n",
        "\n",
        "text = \"Specimen: Batis crypta Fjeldsa, Bowie & Kiure, 2006. Collected by Andersen, Thorkild on 1948-10-23 in Uluguru Mts., Unkn, Tanzania. Discipline: Zoology.\"\n",
        "\n",
        "print(\"True LAbel: 2011313213\")\n",
        "lime_style_token_importance(text, model, tokenizer, device)\n"
      ]
    },
    {
      "cell_type": "code",
      "execution_count": null,
      "metadata": {
        "id": "xkaBIZh4LDxq"
      },
      "outputs": [],
      "source": [
        "from IPython.display import display, HTML\n",
        "\n",
        "def visualize_token_importance(text, importance_results):\n",
        "    html = \"\"\n",
        "    for token, changed, _ in importance_results:\n",
        "        if changed:\n",
        "            # Red for important (changed prediction when masked)\n",
        "            html += f'<span style=\"background-color: rgba(255,0,0,0.4); padding:2px; margin:1px;\">{token}</span> '\n",
        "        else:\n",
        "            # Light gray for unimportant\n",
        "            html += f'<span style=\"background-color: rgba(200,200,200,0.2); padding:2px; margin:1px;\">{token}</span> '\n",
        "\n",
        "    display(HTML(html))\n"
      ]
    },
    {
      "cell_type": "code",
      "execution_count": null,
      "metadata": {
        "colab": {
          "base_uri": "https://localhost:8080/",
          "height": 416
        },
        "id": "DsBS9BjSLF9H",
        "outputId": "2b0f5c55-01db-440a-9189-d147b6bf980b"
      },
      "outputs": [
        {
          "name": "stdout",
          "output_type": "stream",
          "text": [
            "True Label: 1022213221\n",
            "🎯 Original Prediction: 1022213211\n",
            "\n",
            "🔍 Token influence (✔ = changed prediction):\n",
            "\n",
            "Specimen:       → 1022213211       \n",
            "Sherardia       → 1022213211       \n",
            "arvensis        → 1022213211       \n",
            "L..             → 1022213211       \n",
            "Collected       → 1022213211       \n",
            "by              → 1022213211       \n",
            "Willing,R.      → 1022213211       \n",
            "on              → 1022213011      ✔\n",
            "2006-04-26      → 1022213211       \n",
            "in              → 1022213211       \n",
            "Kilkís,         → 1022211203      ✔\n",
            "W               → 1022213211       \n",
            "Myriofyto,      → 1022213011      ✔\n",
            "Unkn,           → 1022213211       \n",
            "Greece.         → 1022213211       \n",
            "Discipline:     → 1022213211       \n",
            "Botany.         → 1022213213      ✔\n"
          ]
        },
        {
          "data": {
            "text/html": [
              "<span style=\"background-color: rgba(200,200,200,0.2); padding:2px; margin:1px;\">Specimen:</span> <span style=\"background-color: rgba(200,200,200,0.2); padding:2px; margin:1px;\">Sherardia</span> <span style=\"background-color: rgba(200,200,200,0.2); padding:2px; margin:1px;\">arvensis</span> <span style=\"background-color: rgba(200,200,200,0.2); padding:2px; margin:1px;\">L..</span> <span style=\"background-color: rgba(200,200,200,0.2); padding:2px; margin:1px;\">Collected</span> <span style=\"background-color: rgba(200,200,200,0.2); padding:2px; margin:1px;\">by</span> <span style=\"background-color: rgba(200,200,200,0.2); padding:2px; margin:1px;\">Willing,R.</span> <span style=\"background-color: rgba(255,0,0,0.4); padding:2px; margin:1px;\">on</span> <span style=\"background-color: rgba(200,200,200,0.2); padding:2px; margin:1px;\">2006-04-26</span> <span style=\"background-color: rgba(200,200,200,0.2); padding:2px; margin:1px;\">in</span> <span style=\"background-color: rgba(255,0,0,0.4); padding:2px; margin:1px;\">Kilkís,</span> <span style=\"background-color: rgba(200,200,200,0.2); padding:2px; margin:1px;\">W</span> <span style=\"background-color: rgba(255,0,0,0.4); padding:2px; margin:1px;\">Myriofyto,</span> <span style=\"background-color: rgba(200,200,200,0.2); padding:2px; margin:1px;\">Unkn,</span> <span style=\"background-color: rgba(200,200,200,0.2); padding:2px; margin:1px;\">Greece.</span> <span style=\"background-color: rgba(200,200,200,0.2); padding:2px; margin:1px;\">Discipline:</span> <span style=\"background-color: rgba(255,0,0,0.4); padding:2px; margin:1px;\">Botany.</span> "
            ],
            "text/plain": [
              "<IPython.core.display.HTML object>"
            ]
          },
          "metadata": {},
          "output_type": "display_data"
        }
      ],
      "source": [
        "text = df_val.iloc[0]['text_combined']\n",
        "print(f\"True Label: {df_val.iloc[0]['hierarchical_label']}\")\n",
        "results = lime_style_token_importance(text, model, tokenizer, device)\n",
        "visualize_token_importance(text, results)"
      ]
    },
    {
      "cell_type": "code",
      "execution_count": null,
      "metadata": {
        "id": "qUDbo2xTMjwf"
      },
      "outputs": [],
      "source": [
        "from IPython.display import display, HTML\n",
        "\n",
        "from IPython.display import display, HTML\n",
        "import difflib\n",
        "\n",
        "def token_difference_score(original, new):\n",
        "    return 1 - difflib.SequenceMatcher(None, original, new).ratio()  # Between 0 and 1\n",
        "\n",
        "def visualize_token_importance_gradient(text, importance_results, original_label):\n",
        "    html = \"\"\n",
        "    for token, _, new_label in importance_results:\n",
        "        diff_score = token_difference_score(original_label, new_label)\n",
        "        intensity = min(max(diff_score, 0.0), 1.0)  # Clamp to [0, 1]\n",
        "        red = int(255 * intensity)\n",
        "        html += f'<span style=\"background-color: rgba({red},0,0,{0.3 + 0.4 * intensity:.2f}); padding:2px; margin:1px;\">{token}</span> '\n",
        "    display(HTML(html))\n",
        "\n",
        "\n",
        "# slightly modified analysis function that returns the original label\n",
        "def lime_style_token_importance(text, model, tokenizer, device, max_length=16):\n",
        "    inputs = tokenizer([text], return_tensors=\"pt\", truncation=True, padding=True).to(device)\n",
        "    with torch.no_grad():\n",
        "        output_ids = model.generate(**inputs, max_length=max_length)\n",
        "    original_label = tokenizer.decode(output_ids[0], skip_special_tokens=True)\n",
        "\n",
        "    tokens = text.split()\n",
        "    results = []\n",
        "\n",
        "    for i in range(len(tokens)):\n",
        "        perturbed = tokens[:i] + [\"[MASK]\"] + tokens[i+1:]\n",
        "        perturbed_text = \" \".join(perturbed)\n",
        "        full_perturbed_input = \"predict cell token: \" + perturbed_text\n",
        "\n",
        "        inputs = tokenizer([full_perturbed_input], return_tensors=\"pt\", truncation=True, padding=True).to(device)\n",
        "        with torch.no_grad():\n",
        "            output_ids = model.generate(**inputs, max_length=max_length)\n",
        "        new_label = tokenizer.decode(output_ids[0], skip_special_tokens=True)\n",
        "        changed = new_label != original_label\n",
        "        results.append((tokens[i], changed, new_label))\n",
        "\n",
        "    return original_label, results\n"
      ]
    },
    {
      "cell_type": "code",
      "execution_count": null,
      "metadata": {
        "colab": {
          "base_uri": "https://localhost:8080/",
          "height": 1000
        },
        "id": "h_FlXTh1Mluh",
        "outputId": "bc788af4-9deb-4db7-f9a8-1af76e638b73"
      },
      "outputs": [
        {
          "name": "stdout",
          "output_type": "stream",
          "text": [
            "\n",
            "✅ Row 620810 — Match! Predicted: 2011313213 | True: 2011313213\n"
          ]
        },
        {
          "data": {
            "text/html": [
              "<span style=\"background-color: rgba(200,200,200,0.2); padding:2px; margin:1px;\">Specimen:</span> <span style=\"background-color: rgba(200,200,200,0.2); padding:2px; margin:1px;\">Batis</span> <span style=\"background-color: rgba(200,200,200,0.2); padding:2px; margin:1px;\">crypta</span> <span style=\"background-color: rgba(200,200,200,0.2); padding:2px; margin:1px;\">Fjeldsa,</span> <span style=\"background-color: rgba(200,200,200,0.2); padding:2px; margin:1px;\">Bowie</span> <span style=\"background-color: rgba(200,200,200,0.2); padding:2px; margin:1px;\">&</span> <span style=\"background-color: rgba(200,200,200,0.2); padding:2px; margin:1px;\">Kiure,</span> <span style=\"background-color: rgba(200,200,200,0.2); padding:2px; margin:1px;\">2006.</span> <span style=\"background-color: rgba(200,200,200,0.2); padding:2px; margin:1px;\">Collected</span> <span style=\"background-color: rgba(200,200,200,0.2); padding:2px; margin:1px;\">by</span> <span style=\"background-color: rgba(200,200,200,0.2); padding:2px; margin:1px;\">Andersen,</span> <span style=\"background-color: rgba(200,200,200,0.2); padding:2px; margin:1px;\">Thorkild</span> <span style=\"background-color: rgba(200,200,200,0.2); padding:2px; margin:1px;\">on</span> <span style=\"background-color: rgba(200,200,200,0.2); padding:2px; margin:1px;\">1948-10-23</span> <span style=\"background-color: rgba(200,200,200,0.2); padding:2px; margin:1px;\">in</span> <span style=\"background-color: rgba(255,0,0,0.4); padding:2px; margin:1px;\">Uluguru</span> <span style=\"background-color: rgba(200,200,200,0.2); padding:2px; margin:1px;\">Mts.,</span> <span style=\"background-color: rgba(200,200,200,0.2); padding:2px; margin:1px;\">Unkn,</span> <span style=\"background-color: rgba(255,0,0,0.4); padding:2px; margin:1px;\">Tanzania.</span> <span style=\"background-color: rgba(200,200,200,0.2); padding:2px; margin:1px;\">Discipline:</span> <span style=\"background-color: rgba(200,200,200,0.2); padding:2px; margin:1px;\">Zoology.</span> "
            ],
            "text/plain": [
              "<IPython.core.display.HTML object>"
            ]
          },
          "metadata": {},
          "output_type": "display_data"
        },
        {
          "name": "stdout",
          "output_type": "stream",
          "text": [
            "\n",
            "✅ Row 580633 — Match! Predicted: 32002030001 | True: 32002030001\n"
          ]
        },
        {
          "data": {
            "text/html": [
              "<span style=\"background-color: rgba(200,200,200,0.2); padding:2px; margin:1px;\">Specimen:</span> <span style=\"background-color: rgba(200,200,200,0.2); padding:2px; margin:1px;\">Catopsilia.</span> <span style=\"background-color: rgba(200,200,200,0.2); padding:2px; margin:1px;\">Collected</span> <span style=\"background-color: rgba(200,200,200,0.2); padding:2px; margin:1px;\">by</span> <span style=\"background-color: rgba(200,200,200,0.2); padding:2px; margin:1px;\">Unkn</span> <span style=\"background-color: rgba(200,200,200,0.2); padding:2px; margin:1px;\">on</span> <span style=\"background-color: rgba(200,200,200,0.2); padding:2px; margin:1px;\">Unkn</span> <span style=\"background-color: rgba(200,200,200,0.2); padding:2px; margin:1px;\">in</span> <span style=\"background-color: rgba(200,200,200,0.2); padding:2px; margin:1px;\">Unkn,</span> <span style=\"background-color: rgba(200,200,200,0.2); padding:2px; margin:1px;\">Irian</span> <span style=\"background-color: rgba(255,0,0,0.4); padding:2px; margin:1px;\">Jaya</span> <span style=\"background-color: rgba(200,200,200,0.2); padding:2px; margin:1px;\">Barat,</span> <span style=\"background-color: rgba(200,200,200,0.2); padding:2px; margin:1px;\">Indonesia.</span> <span style=\"background-color: rgba(200,200,200,0.2); padding:2px; margin:1px;\">Discipline:</span> <span style=\"background-color: rgba(200,200,200,0.2); padding:2px; margin:1px;\">Zoology.</span> "
            ],
            "text/plain": [
              "<IPython.core.display.HTML object>"
            ]
          },
          "metadata": {},
          "output_type": "display_data"
        },
        {
          "name": "stdout",
          "output_type": "stream",
          "text": [
            "\n",
            "✅ Row 6379 — Match! Predicted: 21330033011 | True: 21330033011\n"
          ]
        },
        {
          "data": {
            "text/html": [
              "<span style=\"background-color: rgba(200,200,200,0.2); padding:2px; margin:1px;\">Specimen:</span> <span style=\"background-color: rgba(200,200,200,0.2); padding:2px; margin:1px;\">Pardosa</span> <span style=\"background-color: rgba(200,200,200,0.2); padding:2px; margin:1px;\">amentata</span> <span style=\"background-color: rgba(200,200,200,0.2); padding:2px; margin:1px;\">(Clerck,</span> <span style=\"background-color: rgba(200,200,200,0.2); padding:2px; margin:1px;\">1757).</span> <span style=\"background-color: rgba(200,200,200,0.2); padding:2px; margin:1px;\">Collected</span> <span style=\"background-color: rgba(200,200,200,0.2); padding:2px; margin:1px;\">by</span> <span style=\"background-color: rgba(200,200,200,0.2); padding:2px; margin:1px;\">Kekenbosch</span> <span style=\"background-color: rgba(200,200,200,0.2); padding:2px; margin:1px;\">robert/</span> <span style=\"background-color: rgba(200,200,200,0.2); padding:2px; margin:1px;\">Kekenbosch</span> <span style=\"background-color: rgba(200,200,200,0.2); padding:2px; margin:1px;\">Jean</span> <span style=\"background-color: rgba(200,200,200,0.2); padding:2px; margin:1px;\">on</span> <span style=\"background-color: rgba(200,200,200,0.2); padding:2px; margin:1px;\">1980-01-01/1989-12-01</span> <span style=\"background-color: rgba(200,200,200,0.2); padding:2px; margin:1px;\">in</span> <span style=\"background-color: rgba(255,0,0,0.4); padding:2px; margin:1px;\">Ukkel,</span> <span style=\"background-color: rgba(200,200,200,0.2); padding:2px; margin:1px;\">Unkn,</span> <span style=\"background-color: rgba(200,200,200,0.2); padding:2px; margin:1px;\">BE.</span> <span style=\"background-color: rgba(200,200,200,0.2); padding:2px; margin:1px;\">Discipline:</span> <span style=\"background-color: rgba(200,200,200,0.2); padding:2px; margin:1px;\">Zoology.</span> "
            ],
            "text/plain": [
              "<IPython.core.display.HTML object>"
            ]
          },
          "metadata": {},
          "output_type": "display_data"
        },
        {
          "name": "stdout",
          "output_type": "stream",
          "text": [
            "\n",
            "✅ Row 366511 — Match! Predicted: 21330033033 | True: 21330033033\n"
          ]
        },
        {
          "data": {
            "text/html": [
              "<span style=\"background-color: rgba(200,200,200,0.2); padding:2px; margin:1px;\">Specimen:</span> <span style=\"background-color: rgba(200,200,200,0.2); padding:2px; margin:1px;\">Agroeca</span> <span style=\"background-color: rgba(200,200,200,0.2); padding:2px; margin:1px;\">brunnea</span> <span style=\"background-color: rgba(200,200,200,0.2); padding:2px; margin:1px;\">(Blackwall,</span> <span style=\"background-color: rgba(200,200,200,0.2); padding:2px; margin:1px;\">1833).</span> <span style=\"background-color: rgba(200,200,200,0.2); padding:2px; margin:1px;\">Collected</span> <span style=\"background-color: rgba(200,200,200,0.2); padding:2px; margin:1px;\">by</span> <span style=\"background-color: rgba(200,200,200,0.2); padding:2px; margin:1px;\">Domir</span> <span style=\"background-color: rgba(200,200,200,0.2); padding:2px; margin:1px;\">De</span> <span style=\"background-color: rgba(200,200,200,0.2); padding:2px; margin:1px;\">Bakker</span> <span style=\"background-color: rgba(200,200,200,0.2); padding:2px; margin:1px;\">on</span> <span style=\"background-color: rgba(200,200,200,0.2); padding:2px; margin:1px;\">1997-04-11</span> <span style=\"background-color: rgba(255,0,0,0.4); padding:2px; margin:1px;\">in</span> <span style=\"background-color: rgba(255,0,0,0.4); padding:2px; margin:1px;\">Halle,</span> <span style=\"background-color: rgba(200,200,200,0.2); padding:2px; margin:1px;\">Unkn,</span> <span style=\"background-color: rgba(200,200,200,0.2); padding:2px; margin:1px;\">BE.</span> <span style=\"background-color: rgba(200,200,200,0.2); padding:2px; margin:1px;\">Discipline:</span> <span style=\"background-color: rgba(200,200,200,0.2); padding:2px; margin:1px;\">Zoology.</span> "
            ],
            "text/plain": [
              "<IPython.core.display.HTML object>"
            ]
          },
          "metadata": {},
          "output_type": "display_data"
        },
        {
          "name": "stdout",
          "output_type": "stream",
          "text": [
            "\n",
            "✅ Row 693950 — Match! Predicted: 21331302303 | True: 21331302303\n"
          ]
        },
        {
          "data": {
            "text/html": [
              "<span style=\"background-color: rgba(200,200,200,0.2); padding:2px; margin:1px;\">Specimen:</span> <span style=\"background-color: rgba(200,200,200,0.2); padding:2px; margin:1px;\">Araneus</span> <span style=\"background-color: rgba(200,200,200,0.2); padding:2px; margin:1px;\">diadematus</span> <span style=\"background-color: rgba(200,200,200,0.2); padding:2px; margin:1px;\">Clerck,</span> <span style=\"background-color: rgba(200,200,200,0.2); padding:2px; margin:1px;\">1757.</span> <span style=\"background-color: rgba(200,200,200,0.2); padding:2px; margin:1px;\">Collected</span> <span style=\"background-color: rgba(200,200,200,0.2); padding:2px; margin:1px;\">by</span> <span style=\"background-color: rgba(200,200,200,0.2); padding:2px; margin:1px;\">Pollet</span> <span style=\"background-color: rgba(200,200,200,0.2); padding:2px; margin:1px;\">M./</span> <span style=\"background-color: rgba(200,200,200,0.2); padding:2px; margin:1px;\">Huble</span> <span style=\"background-color: rgba(200,200,200,0.2); padding:2px; margin:1px;\">J.</span> <span style=\"background-color: rgba(200,200,200,0.2); padding:2px; margin:1px;\">on</span> <span style=\"background-color: rgba(200,200,200,0.2); padding:2px; margin:1px;\">1985-03-09/1986-03-08</span> <span style=\"background-color: rgba(200,200,200,0.2); padding:2px; margin:1px;\">in</span> <span style=\"background-color: rgba(255,0,0,0.4); padding:2px; margin:1px;\">Wijnendale,</span> <span style=\"background-color: rgba(200,200,200,0.2); padding:2px; margin:1px;\">Unkn,</span> <span style=\"background-color: rgba(200,200,200,0.2); padding:2px; margin:1px;\">BE.</span> <span style=\"background-color: rgba(200,200,200,0.2); padding:2px; margin:1px;\">Discipline:</span> <span style=\"background-color: rgba(200,200,200,0.2); padding:2px; margin:1px;\">Zoology.</span> "
            ],
            "text/plain": [
              "<IPython.core.display.HTML object>"
            ]
          },
          "metadata": {},
          "output_type": "display_data"
        },
        {
          "name": "stdout",
          "output_type": "stream",
          "text": [
            "\n",
            "✅ Row 707398 — Match! Predicted: 32033311021 | True: 32033311021\n"
          ]
        },
        {
          "data": {
            "text/html": [
              "<span style=\"background-color: rgba(200,200,200,0.2); padding:2px; margin:1px;\">Specimen:</span> <span style=\"background-color: rgba(200,200,200,0.2); padding:2px; margin:1px;\">Lepidoptera</span> <span style=\"background-color: rgba(200,200,200,0.2); padding:2px; margin:1px;\">Linnaeus,</span> <span style=\"background-color: rgba(200,200,200,0.2); padding:2px; margin:1px;\">1758.</span> <span style=\"background-color: rgba(200,200,200,0.2); padding:2px; margin:1px;\">Collected</span> <span style=\"background-color: rgba(200,200,200,0.2); padding:2px; margin:1px;\">by</span> <span style=\"background-color: rgba(200,200,200,0.2); padding:2px; margin:1px;\">Godfried</span> <span style=\"background-color: rgba(200,200,200,0.2); padding:2px; margin:1px;\">Gerrits</span> <span style=\"background-color: rgba(200,200,200,0.2); padding:2px; margin:1px;\">on</span> <span style=\"background-color: rgba(200,200,200,0.2); padding:2px; margin:1px;\">1967-12-01/1967-12-31</span> <span style=\"background-color: rgba(200,200,200,0.2); padding:2px; margin:1px;\">in</span> <span style=\"background-color: rgba(200,200,200,0.2); padding:2px; margin:1px;\">Sohe</span> <span style=\"background-color: rgba(200,200,200,0.2); padding:2px; margin:1px;\">District,</span> <span style=\"background-color: rgba(200,200,200,0.2); padding:2px; margin:1px;\">Saiho,</span> <span style=\"background-color: rgba(255,0,0,0.4); padding:2px; margin:1px;\">Northern</span> <span style=\"background-color: rgba(200,200,200,0.2); padding:2px; margin:1px;\">province,</span> <span style=\"background-color: rgba(255,0,0,0.4); padding:2px; margin:1px;\">Papua</span> <span style=\"background-color: rgba(200,200,200,0.2); padding:2px; margin:1px;\">New</span> <span style=\"background-color: rgba(200,200,200,0.2); padding:2px; margin:1px;\">Guinea.</span> <span style=\"background-color: rgba(200,200,200,0.2); padding:2px; margin:1px;\">Discipline:</span> <span style=\"background-color: rgba(200,200,200,0.2); padding:2px; margin:1px;\">Zoology.</span> "
            ],
            "text/plain": [
              "<IPython.core.display.HTML object>"
            ]
          },
          "metadata": {},
          "output_type": "display_data"
        },
        {
          "name": "stdout",
          "output_type": "stream",
          "text": [
            "\n",
            "✅ Row 350203 — Match! Predicted: 33002133203 | True: 33002133203\n"
          ]
        },
        {
          "data": {
            "text/html": [
              "<span style=\"background-color: rgba(200,200,200,0.2); padding:2px; margin:1px;\">Specimen:</span> <span style=\"background-color: rgba(200,200,200,0.2); padding:2px; margin:1px;\">Annachlamys</span> <span style=\"background-color: rgba(200,200,200,0.2); padding:2px; margin:1px;\">kuhnholtzi</span> <span style=\"background-color: rgba(200,200,200,0.2); padding:2px; margin:1px;\">(Bernardi,</span> <span style=\"background-color: rgba(200,200,200,0.2); padding:2px; margin:1px;\">1860).</span> <span style=\"background-color: rgba(200,200,200,0.2); padding:2px; margin:1px;\">Collected</span> <span style=\"background-color: rgba(200,200,200,0.2); padding:2px; margin:1px;\">by</span> <span style=\"background-color: rgba(200,200,200,0.2); padding:2px; margin:1px;\">Unkn</span> <span style=\"background-color: rgba(200,200,200,0.2); padding:2px; margin:1px;\">on</span> <span style=\"background-color: rgba(200,200,200,0.2); padding:2px; margin:1px;\">0-1-1972</span> <span style=\"background-color: rgba(200,200,200,0.2); padding:2px; margin:1px;\">in</span> <span style=\"background-color: rgba(200,200,200,0.2); padding:2px; margin:1px;\">Unkn,</span> <span style=\"background-color: rgba(255,0,0,0.4); padding:2px; margin:1px;\">Noumea,</span> <span style=\"background-color: rgba(255,0,0,0.4); padding:2px; margin:1px;\">New</span> <span style=\"background-color: rgba(255,0,0,0.4); padding:2px; margin:1px;\">Caledonia.</span> <span style=\"background-color: rgba(200,200,200,0.2); padding:2px; margin:1px;\">Discipline:</span> <span style=\"background-color: rgba(200,200,200,0.2); padding:2px; margin:1px;\">Zoology.</span> "
            ],
            "text/plain": [
              "<IPython.core.display.HTML object>"
            ]
          },
          "metadata": {},
          "output_type": "display_data"
        },
        {
          "name": "stdout",
          "output_type": "stream",
          "text": [
            "\n",
            "✅ Row 206407 — Match! Predicted: 1022002031 | True: 1022002031\n"
          ]
        },
        {
          "data": {
            "text/html": [
              "<span style=\"background-color: rgba(200,200,200,0.2); padding:2px; margin:1px;\">Specimen:</span> <span style=\"background-color: rgba(200,200,200,0.2); padding:2px; margin:1px;\">Vitex</span> <span style=\"background-color: rgba(200,200,200,0.2); padding:2px; margin:1px;\">agnus-castus</span> <span style=\"background-color: rgba(200,200,200,0.2); padding:2px; margin:1px;\">L..</span> <span style=\"background-color: rgba(200,200,200,0.2); padding:2px; margin:1px;\">Collected</span> <span style=\"background-color: rgba(200,200,200,0.2); padding:2px; margin:1px;\">by</span> <span style=\"background-color: rgba(200,200,200,0.2); padding:2px; margin:1px;\">Willing,R.</span> <span style=\"background-color: rgba(200,200,200,0.2); padding:2px; margin:1px;\">on</span> <span style=\"background-color: rgba(200,200,200,0.2); padding:2px; margin:1px;\">2005-09-29</span> <span style=\"background-color: rgba(200,200,200,0.2); padding:2px; margin:1px;\">in</span> <span style=\"background-color: rgba(255,0,0,0.4); padding:2px; margin:1px;\">Voiotía,</span> <span style=\"background-color: rgba(200,200,200,0.2); padding:2px; margin:1px;\">SO</span> <span style=\"background-color: rgba(200,200,200,0.2); padding:2px; margin:1px;\">Ag.</span> <span style=\"background-color: rgba(255,0,0,0.4); padding:2px; margin:1px;\">Georgios,</span> <span style=\"background-color: rgba(200,200,200,0.2); padding:2px; margin:1px;\">Unkn,</span> <span style=\"background-color: rgba(200,200,200,0.2); padding:2px; margin:1px;\">Greece.</span> <span style=\"background-color: rgba(200,200,200,0.2); padding:2px; margin:1px;\">Discipline:</span> <span style=\"background-color: rgba(200,200,200,0.2); padding:2px; margin:1px;\">Botany.</span> "
            ],
            "text/plain": [
              "<IPython.core.display.HTML object>"
            ]
          },
          "metadata": {},
          "output_type": "display_data"
        },
        {
          "name": "stdout",
          "output_type": "stream",
          "text": [
            "\n",
            "✅ Row 580309 — Match! Predicted: 430100001 | True: 430100001\n"
          ]
        },
        {
          "data": {
            "text/html": [
              "<span style=\"background-color: rgba(200,200,200,0.2); padding:2px; margin:1px;\">Specimen:</span> <span style=\"background-color: rgba(200,200,200,0.2); padding:2px; margin:1px;\">Anadara</span> <span style=\"background-color: rgba(200,200,200,0.2); padding:2px; margin:1px;\">notabilis</span> <span style=\"background-color: rgba(200,200,200,0.2); padding:2px; margin:1px;\">(Röding,</span> <span style=\"background-color: rgba(200,200,200,0.2); padding:2px; margin:1px;\">1798).</span> <span style=\"background-color: rgba(200,200,200,0.2); padding:2px; margin:1px;\">Collected</span> <span style=\"background-color: rgba(200,200,200,0.2); padding:2px; margin:1px;\">by</span> <span style=\"background-color: rgba(200,200,200,0.2); padding:2px; margin:1px;\">Schravendijk</span> <span style=\"background-color: rgba(200,200,200,0.2); padding:2px; margin:1px;\">J.</span> <span style=\"background-color: rgba(200,200,200,0.2); padding:2px; margin:1px;\">van</span> <span style=\"background-color: rgba(200,200,200,0.2); padding:2px; margin:1px;\">on</span> <span style=\"background-color: rgba(200,200,200,0.2); padding:2px; margin:1px;\">1977-08-07</span> <span style=\"background-color: rgba(200,200,200,0.2); padding:2px; margin:1px;\">in</span> <span style=\"background-color: rgba(255,0,0,0.4); padding:2px; margin:1px;\">Anse-à-l'Ane,</span> <span style=\"background-color: rgba(200,200,200,0.2); padding:2px; margin:1px;\">Unkn,</span> <span style=\"background-color: rgba(255,0,0,0.4); padding:2px; margin:1px;\">Martinique.</span> <span style=\"background-color: rgba(200,200,200,0.2); padding:2px; margin:1px;\">Discipline:</span> <span style=\"background-color: rgba(200,200,200,0.2); padding:2px; margin:1px;\">Zoology.</span> "
            ],
            "text/plain": [
              "<IPython.core.display.HTML object>"
            ]
          },
          "metadata": {},
          "output_type": "display_data"
        },
        {
          "name": "stdout",
          "output_type": "stream",
          "text": [
            "\n",
            "✅ Row 678515 — Match! Predicted: 13121200133 | True: 13121200133\n"
          ]
        },
        {
          "data": {
            "text/html": [
              "<span style=\"background-color: rgba(200,200,200,0.2); padding:2px; margin:1px;\">Specimen:</span> <span style=\"background-color: rgba(200,200,200,0.2); padding:2px; margin:1px;\">Ypthima</span> <span style=\"background-color: rgba(200,200,200,0.2); padding:2px; margin:1px;\">Hübner,</span> <span style=\"background-color: rgba(200,200,200,0.2); padding:2px; margin:1px;\">1818.</span> <span style=\"background-color: rgba(200,200,200,0.2); padding:2px; margin:1px;\">Collected</span> <span style=\"background-color: rgba(200,200,200,0.2); padding:2px; margin:1px;\">by</span> <span style=\"background-color: rgba(200,200,200,0.2); padding:2px; margin:1px;\">Unkn</span> <span style=\"background-color: rgba(200,200,200,0.2); padding:2px; margin:1px;\">on</span> <span style=\"background-color: rgba(200,200,200,0.2); padding:2px; margin:1px;\">1939-05-01/1939-05-31</span> <span style=\"background-color: rgba(200,200,200,0.2); padding:2px; margin:1px;\">in</span> <span style=\"background-color: rgba(255,0,0,0.4); padding:2px; margin:1px;\">Ulu</span> <span style=\"background-color: rgba(200,200,200,0.2); padding:2px; margin:1px;\">Kolaka,</span> <span style=\"background-color: rgba(200,200,200,0.2); padding:2px; margin:1px;\">East</span> <span style=\"background-color: rgba(200,200,200,0.2); padding:2px; margin:1px;\">Sulawesi,</span> <span style=\"background-color: rgba(255,0,0,0.4); padding:2px; margin:1px;\">Indonesia.</span> <span style=\"background-color: rgba(200,200,200,0.2); padding:2px; margin:1px;\">Discipline:</span> <span style=\"background-color: rgba(200,200,200,0.2); padding:2px; margin:1px;\">Zoology.</span> "
            ],
            "text/plain": [
              "<IPython.core.display.HTML object>"
            ]
          },
          "metadata": {},
          "output_type": "display_data"
        },
        {
          "name": "stdout",
          "output_type": "stream",
          "text": [
            "\n",
            "✅ Row 650817 — Match! Predicted: 21330013321 | True: 21330013321\n"
          ]
        },
        {
          "data": {
            "text/html": [
              "<span style=\"background-color: rgba(200,200,200,0.2); padding:2px; margin:1px;\">Specimen:</span> <span style=\"background-color: rgba(200,200,200,0.2); padding:2px; margin:1px;\">Aulonia</span> <span style=\"background-color: rgba(200,200,200,0.2); padding:2px; margin:1px;\">albimana</span> <span style=\"background-color: rgba(200,200,200,0.2); padding:2px; margin:1px;\">(Walckenaer,</span> <span style=\"background-color: rgba(200,200,200,0.2); padding:2px; margin:1px;\">1805).</span> <span style=\"background-color: rgba(200,200,200,0.2); padding:2px; margin:1px;\">Collected</span> <span style=\"background-color: rgba(200,200,200,0.2); padding:2px; margin:1px;\">by</span> <span style=\"background-color: rgba(200,200,200,0.2); padding:2px; margin:1px;\">Unkn</span> <span style=\"background-color: rgba(200,200,200,0.2); padding:2px; margin:1px;\">on</span> <span style=\"background-color: rgba(200,200,200,0.2); padding:2px; margin:1px;\">1994-07-22</span> <span style=\"background-color: rgba(200,200,200,0.2); padding:2px; margin:1px;\">in</span> <span style=\"background-color: rgba(255,0,0,0.4); padding:2px; margin:1px;\">Viroin,</span> <span style=\"background-color: rgba(200,200,200,0.2); padding:2px; margin:1px;\">Unkn,</span> <span style=\"background-color: rgba(200,200,200,0.2); padding:2px; margin:1px;\">BE.</span> <span style=\"background-color: rgba(200,200,200,0.2); padding:2px; margin:1px;\">Discipline:</span> <span style=\"background-color: rgba(200,200,200,0.2); padding:2px; margin:1px;\">Zoology.</span> "
            ],
            "text/plain": [
              "<IPython.core.display.HTML object>"
            ]
          },
          "metadata": {},
          "output_type": "display_data"
        },
        {
          "name": "stdout",
          "output_type": "stream",
          "text": [
            "\n",
            "✅ Row 625207 — Match! Predicted: 21233023001 | True: 21233023001\n"
          ]
        },
        {
          "data": {
            "text/html": [
              "<span style=\"background-color: rgba(200,200,200,0.2); padding:2px; margin:1px;\">Specimen:</span> <span style=\"background-color: rgba(200,200,200,0.2); padding:2px; margin:1px;\">Cephalopoda</span> <span style=\"background-color: rgba(200,200,200,0.2); padding:2px; margin:1px;\">Cuvier,</span> <span style=\"background-color: rgba(200,200,200,0.2); padding:2px; margin:1px;\">1795.</span> <span style=\"background-color: rgba(200,200,200,0.2); padding:2px; margin:1px;\">Collected</span> <span style=\"background-color: rgba(200,200,200,0.2); padding:2px; margin:1px;\">by</span> <span style=\"background-color: rgba(200,200,200,0.2); padding:2px; margin:1px;\">Unkn</span> <span style=\"background-color: rgba(200,200,200,0.2); padding:2px; margin:1px;\">on</span> <span style=\"background-color: rgba(200,200,200,0.2); padding:2px; margin:1px;\">Unkn</span> <span style=\"background-color: rgba(200,200,200,0.2); padding:2px; margin:1px;\">in</span> <span style=\"background-color: rgba(255,0,0,0.4); padding:2px; margin:1px;\">Paluküla</span> <span style=\"background-color: rgba(200,200,200,0.2); padding:2px; margin:1px;\">quarry,</span> <span style=\"background-color: rgba(200,200,200,0.2); padding:2px; margin:1px;\">Unkn,</span> <span style=\"background-color: rgba(255,0,0,0.4); padding:2px; margin:1px;\">Estonia.</span> <span style=\"background-color: rgba(200,200,200,0.2); padding:2px; margin:1px;\">Discipline:</span> <span style=\"background-color: rgba(200,200,200,0.2); padding:2px; margin:1px;\">Palaeontology.</span> "
            ],
            "text/plain": [
              "<IPython.core.display.HTML object>"
            ]
          },
          "metadata": {},
          "output_type": "display_data"
        },
        {
          "name": "stdout",
          "output_type": "stream",
          "text": [
            "\n",
            "✅ Row 684929 — Match! Predicted: 21330013031 | True: 21330013031\n"
          ]
        },
        {
          "data": {
            "text/html": [
              "<span style=\"background-color: rgba(200,200,200,0.2); padding:2px; margin:1px;\">Specimen:</span> <span style=\"background-color: rgba(200,200,200,0.2); padding:2px; margin:1px;\">Apodemus</span> <span style=\"background-color: rgba(200,200,200,0.2); padding:2px; margin:1px;\">sylvaticus</span> <span style=\"background-color: rgba(200,200,200,0.2); padding:2px; margin:1px;\">(Linnaeus,</span> <span style=\"background-color: rgba(200,200,200,0.2); padding:2px; margin:1px;\">1758).</span> <span style=\"background-color: rgba(200,200,200,0.2); padding:2px; margin:1px;\">Collected</span> <span style=\"background-color: rgba(200,200,200,0.2); padding:2px; margin:1px;\">by</span> <span style=\"background-color: rgba(200,200,200,0.2); padding:2px; margin:1px;\">Unkn</span> <span style=\"background-color: rgba(200,200,200,0.2); padding:2px; margin:1px;\">on</span> <span style=\"background-color: rgba(200,200,200,0.2); padding:2px; margin:1px;\">1971-08-25</span> <span style=\"background-color: rgba(200,200,200,0.2); padding:2px; margin:1px;\">in</span> <span style=\"background-color: rgba(255,0,0,0.4); padding:2px; margin:1px;\">Belgium,</span> <span style=\"background-color: rgba(255,0,0,0.4); padding:2px; margin:1px;\">Tellin,</span> <span style=\"background-color: rgba(200,200,200,0.2); padding:2px; margin:1px;\">Unkn,</span> <span style=\"background-color: rgba(200,200,200,0.2); padding:2px; margin:1px;\">Belgium.</span> <span style=\"background-color: rgba(200,200,200,0.2); padding:2px; margin:1px;\">Discipline:</span> <span style=\"background-color: rgba(200,200,200,0.2); padding:2px; margin:1px;\">Zoology.</span> "
            ],
            "text/plain": [
              "<IPython.core.display.HTML object>"
            ]
          },
          "metadata": {},
          "output_type": "display_data"
        },
        {
          "name": "stdout",
          "output_type": "stream",
          "text": [
            "\n",
            "✅ Row 817676 — Match! Predicted: 21221030103 | True: 21221030103\n"
          ]
        },
        {
          "data": {
            "text/html": [
              "<span style=\"background-color: rgba(200,200,200,0.2); padding:2px; margin:1px;\">Specimen:</span> <span style=\"background-color: rgba(200,200,200,0.2); padding:2px; margin:1px;\">Brachiopoda</span> <span style=\"background-color: rgba(200,200,200,0.2); padding:2px; margin:1px;\">Duméril,</span> <span style=\"background-color: rgba(200,200,200,0.2); padding:2px; margin:1px;\">1805.</span> <span style=\"background-color: rgba(200,200,200,0.2); padding:2px; margin:1px;\">Collected</span> <span style=\"background-color: rgba(200,200,200,0.2); padding:2px; margin:1px;\">by</span> <span style=\"background-color: rgba(200,200,200,0.2); padding:2px; margin:1px;\">Öpik,</span> <span style=\"background-color: rgba(200,200,200,0.2); padding:2px; margin:1px;\">Armin</span> <span style=\"background-color: rgba(200,200,200,0.2); padding:2px; margin:1px;\">on</span> <span style=\"background-color: rgba(200,200,200,0.2); padding:2px; margin:1px;\">Unkn</span> <span style=\"background-color: rgba(200,200,200,0.2); padding:2px; margin:1px;\">in</span> <span style=\"background-color: rgba(255,0,0,0.4); padding:2px; margin:1px;\">Moe,</span> <span style=\"background-color: rgba(200,200,200,0.2); padding:2px; margin:1px;\">Unkn,</span> <span style=\"background-color: rgba(255,0,0,0.4); padding:2px; margin:1px;\">Estonia.</span> <span style=\"background-color: rgba(200,200,200,0.2); padding:2px; margin:1px;\">Discipline:</span> <span style=\"background-color: rgba(200,200,200,0.2); padding:2px; margin:1px;\">Palaeontology.</span> "
            ],
            "text/plain": [
              "<IPython.core.display.HTML object>"
            ]
          },
          "metadata": {},
          "output_type": "display_data"
        },
        {
          "name": "stdout",
          "output_type": "stream",
          "text": [
            "\n",
            "✅ Row 826148 — Match! Predicted: 21300132131 | True: 21300132131\n"
          ]
        },
        {
          "data": {
            "text/html": [
              "<span style=\"background-color: rgba(200,200,200,0.2); padding:2px; margin:1px;\">Specimen:</span> <span style=\"background-color: rgba(200,200,200,0.2); padding:2px; margin:1px;\">Lamium</span> <span style=\"background-color: rgba(200,200,200,0.2); padding:2px; margin:1px;\">maculatum</span> <span style=\"background-color: rgba(200,200,200,0.2); padding:2px; margin:1px;\">(L.)</span> <span style=\"background-color: rgba(200,200,200,0.2); padding:2px; margin:1px;\">L..</span> <span style=\"background-color: rgba(200,200,200,0.2); padding:2px; margin:1px;\">Collected</span> <span style=\"background-color: rgba(200,200,200,0.2); padding:2px; margin:1px;\">by</span> <span style=\"background-color: rgba(200,200,200,0.2); padding:2px; margin:1px;\">Ristow,M.</span> <span style=\"background-color: rgba(200,200,200,0.2); padding:2px; margin:1px;\">on</span> <span style=\"background-color: rgba(200,200,200,0.2); padding:2px; margin:1px;\">2007-09-20</span> <span style=\"background-color: rgba(200,200,200,0.2); padding:2px; margin:1px;\">in</span> <span style=\"background-color: rgba(200,200,200,0.2); padding:2px; margin:1px;\">Germany:</span> <span style=\"background-color: rgba(255,0,0,0.4); padding:2px; margin:1px;\">Brandenburg.</span> <span style=\"background-color: rgba(255,0,0,0.4); padding:2px; margin:1px;\">Odergebiet,</span> <span style=\"background-color: rgba(200,200,200,0.2); padding:2px; margin:1px;\">Straßeneinschnitt</span> <span style=\"background-color: rgba(200,200,200,0.2); padding:2px; margin:1px;\">am</span> <span style=\"background-color: rgba(200,200,200,0.2); padding:2px; margin:1px;\">N-Rand</span> <span style=\"background-color: rgba(200,200,200,0.2); padding:2px; margin:1px;\">von</span> <span style=\"background-color: rgba(200,200,200,0.2); padding:2px; margin:1px;\">Mallnow.</span> <span style=\"background-color: rgba(200,200,200,0.2); padding:2px; margin:1px;\">Nitrophytischer</span> <span style=\"background-color: rgba(200,200,200,0.2); padding:2px; margin:1px;\">frischer</span> <span style=\"background-color: rgba(200,200,200,0.2); padding:2px; margin:1px;\">Saum</span> <span style=\"background-color: rgba(200,200,200,0.2); padding:2px; margin:1px;\">.</span> <span style=\"background-color: rgba(200,200,200,0.2); padding:2px; margin:1px;\">Alt.:</span> <span style=\"background-color: rgba(200,200,200,0.2); padding:2px; margin:1px;\">40m.</span> <span style=\"background-color: rgba(200,200,200,0.2); padding:2px; margin:1px;\">20.09.2007,</span> <span style=\"background-color: rgba(200,200,200,0.2); padding:2px; margin:1px;\">Leg.:</span> <span style=\"background-color: rgba(200,200,200,0.2); padding:2px; margin:1px;\">M.</span> <span style=\"background-color: rgba(200,200,200,0.2); padding:2px; margin:1px;\">Ristow</span> <span style=\"background-color: rgba(200,200,200,0.2); padding:2px; margin:1px;\">&</span> <span style=\"background-color: rgba(200,200,200,0.2); padding:2px; margin:1px;\">B.</span> <span style=\"background-color: rgba(200,200,200,0.2); padding:2px; margin:1px;\">Gemeinholzer</span> <span style=\"background-color: rgba(200,200,200,0.2); padding:2px; margin:1px;\">744/07.,</span> <span style=\"background-color: rgba(200,200,200,0.2); padding:2px; margin:1px;\">Unkn,</span> <span style=\"background-color: rgba(200,200,200,0.2); padding:2px; margin:1px;\">Germany.</span> <span style=\"background-color: rgba(200,200,200,0.2); padding:2px; margin:1px;\">Discipline:</span> <span style=\"background-color: rgba(200,200,200,0.2); padding:2px; margin:1px;\">Botany.</span> "
            ],
            "text/plain": [
              "<IPython.core.display.HTML object>"
            ]
          },
          "metadata": {},
          "output_type": "display_data"
        },
        {
          "name": "stdout",
          "output_type": "stream",
          "text": [
            "\n",
            "✅ Row 692727 — Match! Predicted: 13123122133 | True: 13123122133\n"
          ]
        },
        {
          "data": {
            "text/html": [
              "<span style=\"background-color: rgba(200,200,200,0.2); padding:2px; margin:1px;\">Specimen:</span> <span style=\"background-color: rgba(200,200,200,0.2); padding:2px; margin:1px;\">Evolvulus</span> <span style=\"background-color: rgba(200,200,200,0.2); padding:2px; margin:1px;\">alsinoides</span> <span style=\"background-color: rgba(200,200,200,0.2); padding:2px; margin:1px;\">(L.)</span> <span style=\"background-color: rgba(200,200,200,0.2); padding:2px; margin:1px;\">L..</span> <span style=\"background-color: rgba(200,200,200,0.2); padding:2px; margin:1px;\">Collected</span> <span style=\"background-color: rgba(200,200,200,0.2); padding:2px; margin:1px;\">by</span> <span style=\"background-color: rgba(200,200,200,0.2); padding:2px; margin:1px;\">Hein,P.</span> <span style=\"background-color: rgba(200,200,200,0.2); padding:2px; margin:1px;\">on</span> <span style=\"background-color: rgba(200,200,200,0.2); padding:2px; margin:1px;\">1996-03-31</span> <span style=\"background-color: rgba(200,200,200,0.2); padding:2px; margin:1px;\">in</span> <span style=\"background-color: rgba(200,200,200,0.2); padding:2px; margin:1px;\">Yemen:</span> <span style=\"background-color: rgba(255,0,0,0.4); padding:2px; margin:1px;\">Socotra.</span> <span style=\"background-color: rgba(200,200,200,0.2); padding:2px; margin:1px;\">Hajhir</span> <span style=\"background-color: rgba(200,200,200,0.2); padding:2px; margin:1px;\">Mountains,</span> <span style=\"background-color: rgba(200,200,200,0.2); padding:2px; margin:1px;\">Wadi</span> <span style=\"background-color: rgba(200,200,200,0.2); padding:2px; margin:1px;\">Qishn</span> <span style=\"background-color: rgba(200,200,200,0.2); padding:2px; margin:1px;\">(Kischen)</span> <span style=\"background-color: rgba(200,200,200,0.2); padding:2px; margin:1px;\">between</span> <span style=\"background-color: rgba(200,200,200,0.2); padding:2px; margin:1px;\">the</span> <span style=\"background-color: rgba(200,200,200,0.2); padding:2px; margin:1px;\">Hadibu</span> <span style=\"background-color: rgba(200,200,200,0.2); padding:2px; margin:1px;\">plain</span> <span style=\"background-color: rgba(200,200,200,0.2); padding:2px; margin:1px;\">and</span> <span style=\"background-color: rgba(200,200,200,0.2); padding:2px; margin:1px;\">the</span> <span style=\"background-color: rgba(200,200,200,0.2); padding:2px; margin:1px;\">Dihaal</span> <span style=\"background-color: rgba(200,200,200,0.2); padding:2px; margin:1px;\">pass</span> <span style=\"background-color: rgba(200,200,200,0.2); padding:2px; margin:1px;\">(Dimele</span> <span style=\"background-color: rgba(200,200,200,0.2); padding:2px; margin:1px;\">pass,</span> <span style=\"background-color: rgba(200,200,200,0.2); padding:2px; margin:1px;\">Aduno).</span> <span style=\"background-color: rgba(200,200,200,0.2); padding:2px; margin:1px;\">Small</span> <span style=\"background-color: rgba(200,200,200,0.2); padding:2px; margin:1px;\">rocky</span> <span style=\"background-color: rgba(200,200,200,0.2); padding:2px; margin:1px;\">wadi</span> <span style=\"background-color: rgba(200,200,200,0.2); padding:2px; margin:1px;\">with</span> <span style=\"background-color: rgba(200,200,200,0.2); padding:2px; margin:1px;\">wet</span> <span style=\"background-color: rgba(200,200,200,0.2); padding:2px; margin:1px;\">rocks,</span> <span style=\"background-color: rgba(200,200,200,0.2); padding:2px; margin:1px;\">granite.</span> <span style=\"background-color: rgba(200,200,200,0.2); padding:2px; margin:1px;\">Alt.:</span> <span style=\"background-color: rgba(200,200,200,0.2); padding:2px; margin:1px;\">550</span> <span style=\"background-color: rgba(200,200,200,0.2); padding:2px; margin:1px;\">m.</span> <span style=\"background-color: rgba(200,200,200,0.2); padding:2px; margin:1px;\">31.3.1996,</span> <span style=\"background-color: rgba(200,200,200,0.2); padding:2px; margin:1px;\">Leg.:</span> <span style=\"background-color: rgba(200,200,200,0.2); padding:2px; margin:1px;\">P.</span> <span style=\"background-color: rgba(200,200,200,0.2); padding:2px; margin:1px;\">Hein</span> <span style=\"background-color: rgba(200,200,200,0.2); padding:2px; margin:1px;\">&</span> <span style=\"background-color: rgba(200,200,200,0.2); padding:2px; margin:1px;\">E.</span> <span style=\"background-color: rgba(200,200,200,0.2); padding:2px; margin:1px;\">von</span> <span style=\"background-color: rgba(200,200,200,0.2); padding:2px; margin:1px;\">Raab-Straube</span> <span style=\"background-color: rgba(200,200,200,0.2); padding:2px; margin:1px;\">PH</span> <span style=\"background-color: rgba(200,200,200,0.2); padding:2px; margin:1px;\">556.,</span> <span style=\"background-color: rgba(200,200,200,0.2); padding:2px; margin:1px;\">Unkn,</span> <span style=\"background-color: rgba(200,200,200,0.2); padding:2px; margin:1px;\">Yemen.</span> <span style=\"background-color: rgba(200,200,200,0.2); padding:2px; margin:1px;\">Discipline:</span> <span style=\"background-color: rgba(200,200,200,0.2); padding:2px; margin:1px;\">Botany.</span> "
            ],
            "text/plain": [
              "<IPython.core.display.HTML object>"
            ]
          },
          "metadata": {},
          "output_type": "display_data"
        },
        {
          "name": "stdout",
          "output_type": "stream",
          "text": [
            "\n",
            "✅ Row 358268 — Match! Predicted: 21232231033 | True: 21232231033\n"
          ]
        },
        {
          "data": {
            "text/html": [
              "<span style=\"background-color: rgba(200,200,200,0.2); padding:2px; margin:1px;\">Specimen:</span> <span style=\"background-color: rgba(200,200,200,0.2); padding:2px; margin:1px;\">Brachiopoda</span> <span style=\"background-color: rgba(200,200,200,0.2); padding:2px; margin:1px;\">Duméril,</span> <span style=\"background-color: rgba(200,200,200,0.2); padding:2px; margin:1px;\">1805.</span> <span style=\"background-color: rgba(200,200,200,0.2); padding:2px; margin:1px;\">Collected</span> <span style=\"background-color: rgba(200,200,200,0.2); padding:2px; margin:1px;\">by</span> <span style=\"background-color: rgba(200,200,200,0.2); padding:2px; margin:1px;\">Unkn</span> <span style=\"background-color: rgba(200,200,200,0.2); padding:2px; margin:1px;\">on</span> <span style=\"background-color: rgba(200,200,200,0.2); padding:2px; margin:1px;\">1961-11-18</span> <span style=\"background-color: rgba(200,200,200,0.2); padding:2px; margin:1px;\">in</span> <span style=\"background-color: rgba(255,0,0,0.4); padding:2px; margin:1px;\">Laeva</span> <span style=\"background-color: rgba(200,200,200,0.2); padding:2px; margin:1px;\">297</span> <span style=\"background-color: rgba(200,200,200,0.2); padding:2px; margin:1px;\">borehole,</span> <span style=\"background-color: rgba(200,200,200,0.2); padding:2px; margin:1px;\">Unkn,</span> <span style=\"background-color: rgba(200,200,200,0.2); padding:2px; margin:1px;\">Estonia.</span> <span style=\"background-color: rgba(200,200,200,0.2); padding:2px; margin:1px;\">Discipline:</span> <span style=\"background-color: rgba(200,200,200,0.2); padding:2px; margin:1px;\">Palaeontology.</span> "
            ],
            "text/plain": [
              "<IPython.core.display.HTML object>"
            ]
          },
          "metadata": {},
          "output_type": "display_data"
        },
        {
          "name": "stdout",
          "output_type": "stream",
          "text": [
            "\n",
            "✅ Row 820423 — Match! Predicted: 13212203011 | True: 13212203011\n"
          ]
        },
        {
          "data": {
            "text/html": [
              "<span style=\"background-color: rgba(200,200,200,0.2); padding:2px; margin:1px;\">Specimen:</span> <span style=\"background-color: rgba(200,200,200,0.2); padding:2px; margin:1px;\">Nymphalidae.</span> <span style=\"background-color: rgba(200,200,200,0.2); padding:2px; margin:1px;\">Collected</span> <span style=\"background-color: rgba(200,200,200,0.2); padding:2px; margin:1px;\">by</span> <span style=\"background-color: rgba(200,200,200,0.2); padding:2px; margin:1px;\">Unkn</span> <span style=\"background-color: rgba(200,200,200,0.2); padding:2px; margin:1px;\">on</span> <span style=\"background-color: rgba(200,200,200,0.2); padding:2px; margin:1px;\">1941-09-25</span> <span style=\"background-color: rgba(200,200,200,0.2); padding:2px; margin:1px;\">in</span> <span style=\"background-color: rgba(255,0,0,0.4); padding:2px; margin:1px;\">Ciayunan,</span> <span style=\"background-color: rgba(200,200,200,0.2); padding:2px; margin:1px;\">West</span> <span style=\"background-color: rgba(255,0,0,0.4); padding:2px; margin:1px;\">Java,</span> <span style=\"background-color: rgba(200,200,200,0.2); padding:2px; margin:1px;\">Indonesia.</span> <span style=\"background-color: rgba(200,200,200,0.2); padding:2px; margin:1px;\">Discipline:</span> <span style=\"background-color: rgba(200,200,200,0.2); padding:2px; margin:1px;\">Zoology.</span> "
            ],
            "text/plain": [
              "<IPython.core.display.HTML object>"
            ]
          },
          "metadata": {},
          "output_type": "display_data"
        },
        {
          "name": "stdout",
          "output_type": "stream",
          "text": [
            "\n",
            "✅ Row 122168 — Match! Predicted: 311323003 | True: 311323003\n"
          ]
        },
        {
          "data": {
            "text/html": [
              "<span style=\"background-color: rgba(200,200,200,0.2); padding:2px; margin:1px;\">Specimen:</span> <span style=\"background-color: rgba(200,200,200,0.2); padding:2px; margin:1px;\">Trifolium</span> <span style=\"background-color: rgba(200,200,200,0.2); padding:2px; margin:1px;\">scabrum</span> <span style=\"background-color: rgba(200,200,200,0.2); padding:2px; margin:1px;\">L..</span> <span style=\"background-color: rgba(200,200,200,0.2); padding:2px; margin:1px;\">Collected</span> <span style=\"background-color: rgba(200,200,200,0.2); padding:2px; margin:1px;\">by</span> <span style=\"background-color: rgba(200,200,200,0.2); padding:2px; margin:1px;\">Willing,R.</span> <span style=\"background-color: rgba(200,200,200,0.2); padding:2px; margin:1px;\">on</span> <span style=\"background-color: rgba(200,200,200,0.2); padding:2px; margin:1px;\">2007-06-15</span> <span style=\"background-color: rgba(200,200,200,0.2); padding:2px; margin:1px;\">in</span> <span style=\"background-color: rgba(255,0,0,0.4); padding:2px; margin:1px;\">Evrytanía,</span> <span style=\"background-color: rgba(200,200,200,0.2); padding:2px; margin:1px;\">Dytiki</span> <span style=\"background-color: rgba(255,0,0,0.4); padding:2px; margin:1px;\">Frangista,</span> <span style=\"background-color: rgba(200,200,200,0.2); padding:2px; margin:1px;\">Unkn,</span> <span style=\"background-color: rgba(200,200,200,0.2); padding:2px; margin:1px;\">Greece.</span> <span style=\"background-color: rgba(200,200,200,0.2); padding:2px; margin:1px;\">Discipline:</span> <span style=\"background-color: rgba(200,200,200,0.2); padding:2px; margin:1px;\">Botany.</span> "
            ],
            "text/plain": [
              "<IPython.core.display.HTML object>"
            ]
          },
          "metadata": {},
          "output_type": "display_data"
        },
        {
          "name": "stdout",
          "output_type": "stream",
          "text": [
            "\n",
            "✅ Row 845839 — Match! Predicted: 3211013103 | True: 3211013103\n"
          ]
        },
        {
          "data": {
            "text/html": [
              "<span style=\"background-color: rgba(200,200,200,0.2); padding:2px; margin:1px;\">Specimen:</span> <span style=\"background-color: rgba(200,200,200,0.2); padding:2px; margin:1px;\">Cyperus</span> <span style=\"background-color: rgba(200,200,200,0.2); padding:2px; margin:1px;\">pseudodiaphanus</span> <span style=\"background-color: rgba(200,200,200,0.2); padding:2px; margin:1px;\">(S.S.Hooper)</span> <span style=\"background-color: rgba(200,200,200,0.2); padding:2px; margin:1px;\">Lye.</span> <span style=\"background-color: rgba(200,200,200,0.2); padding:2px; margin:1px;\">Collected</span> <span style=\"background-color: rgba(200,200,200,0.2); padding:2px; margin:1px;\">by</span> <span style=\"background-color: rgba(200,200,200,0.2); padding:2px; margin:1px;\">Adam,</span> <span style=\"background-color: rgba(200,200,200,0.2); padding:2px; margin:1px;\">J.G.</span> <span style=\"background-color: rgba(200,200,200,0.2); padding:2px; margin:1px;\">on</span> <span style=\"background-color: rgba(200,200,200,0.2); padding:2px; margin:1px;\">1958-09-30</span> <span style=\"background-color: rgba(200,200,200,0.2); padding:2px; margin:1px;\">in</span> <span style=\"background-color: rgba(255,0,0,0.4); padding:2px; margin:1px;\">Sotuba,</span> <span style=\"background-color: rgba(200,200,200,0.2); padding:2px; margin:1px;\">Kati,</span> <span style=\"background-color: rgba(200,200,200,0.2); padding:2px; margin:1px;\">Unkn.</span> <span style=\"background-color: rgba(255,0,0,0.4); padding:2px; margin:1px;\">Discipline:</span> <span style=\"background-color: rgba(200,200,200,0.2); padding:2px; margin:1px;\">Botany.</span> "
            ],
            "text/plain": [
              "<IPython.core.display.HTML object>"
            ]
          },
          "metadata": {},
          "output_type": "display_data"
        },
        {
          "name": "stdout",
          "output_type": "stream",
          "text": [
            "\n",
            "✅ Row 964995 — Match! Predicted: 10032022121 | True: 10032022121\n"
          ]
        },
        {
          "data": {
            "text/html": [
              "<span style=\"background-color: rgba(200,200,200,0.2); padding:2px; margin:1px;\">Specimen:</span> <span style=\"background-color: rgba(200,200,200,0.2); padding:2px; margin:1px;\">Dicaeum</span> <span style=\"background-color: rgba(200,200,200,0.2); padding:2px; margin:1px;\">cruentatum</span> <span style=\"background-color: rgba(200,200,200,0.2); padding:2px; margin:1px;\">(Linnaeus,</span> <span style=\"background-color: rgba(200,200,200,0.2); padding:2px; margin:1px;\">1758).</span> <span style=\"background-color: rgba(200,200,200,0.2); padding:2px; margin:1px;\">Collected</span> <span style=\"background-color: rgba(200,200,200,0.2); padding:2px; margin:1px;\">by</span> <span style=\"background-color: rgba(200,200,200,0.2); padding:2px; margin:1px;\">Aagaard,</span> <span style=\"background-color: rgba(200,200,200,0.2); padding:2px; margin:1px;\">C.</span> <span style=\"background-color: rgba(200,200,200,0.2); padding:2px; margin:1px;\">on</span> <span style=\"background-color: rgba(200,200,200,0.2); padding:2px; margin:1px;\">1922-04-30</span> <span style=\"background-color: rgba(200,200,200,0.2); padding:2px; margin:1px;\">in</span> <span style=\"background-color: rgba(200,200,200,0.2); padding:2px; margin:1px;\">Bangkok,</span> <span style=\"background-color: rgba(200,200,200,0.2); padding:2px; margin:1px;\">Bangkok,</span> <span style=\"background-color: rgba(200,200,200,0.2); padding:2px; margin:1px;\">Thailand.</span> <span style=\"background-color: rgba(200,200,200,0.2); padding:2px; margin:1px;\">Discipline:</span> <span style=\"background-color: rgba(200,200,200,0.2); padding:2px; margin:1px;\">Zoology.</span> "
            ],
            "text/plain": [
              "<IPython.core.display.HTML object>"
            ]
          },
          "metadata": {},
          "output_type": "display_data"
        },
        {
          "name": "stdout",
          "output_type": "stream",
          "text": [
            "\n",
            "✅ Row 510604 — Match! Predicted: 10002120021 | True: 10002120021\n"
          ]
        },
        {
          "data": {
            "text/html": [
              "<span style=\"background-color: rgba(200,200,200,0.2); padding:2px; margin:1px;\">Specimen:</span> <span style=\"background-color: rgba(200,200,200,0.2); padding:2px; margin:1px;\">Pantoporia</span> <span style=\"background-color: rgba(200,200,200,0.2); padding:2px; margin:1px;\">rufula</span> <span style=\"background-color: rgba(200,200,200,0.2); padding:2px; margin:1px;\">glora</span> <span style=\"background-color: rgba(200,200,200,0.2); padding:2px; margin:1px;\">Kheil,</span> <span style=\"background-color: rgba(200,200,200,0.2); padding:2px; margin:1px;\">1884.</span> <span style=\"background-color: rgba(200,200,200,0.2); padding:2px; margin:1px;\">Collected</span> <span style=\"background-color: rgba(200,200,200,0.2); padding:2px; margin:1px;\">by</span> <span style=\"background-color: rgba(200,200,200,0.2); padding:2px; margin:1px;\">Unkn</span> <span style=\"background-color: rgba(200,200,200,0.2); padding:2px; margin:1px;\">on</span> <span style=\"background-color: rgba(200,200,200,0.2); padding:2px; margin:1px;\">Unkn</span> <span style=\"background-color: rgba(200,200,200,0.2); padding:2px; margin:1px;\">in</span> <span style=\"background-color: rgba(200,200,200,0.2); padding:2px; margin:1px;\">Unkn,</span> <span style=\"background-color: rgba(255,0,0,0.4); padding:2px; margin:1px;\">Sumatera</span> <span style=\"background-color: rgba(255,0,0,0.4); padding:2px; margin:1px;\">Utara,</span> <span style=\"background-color: rgba(200,200,200,0.2); padding:2px; margin:1px;\">Indonesia.</span> <span style=\"background-color: rgba(200,200,200,0.2); padding:2px; margin:1px;\">Discipline:</span> <span style=\"background-color: rgba(200,200,200,0.2); padding:2px; margin:1px;\">Zoology.</span> "
            ],
            "text/plain": [
              "<IPython.core.display.HTML object>"
            ]
          },
          "metadata": {},
          "output_type": "display_data"
        },
        {
          "name": "stdout",
          "output_type": "stream",
          "text": [
            "\n",
            "✅ Row 432991 — Match! Predicted: 21330003103 | True: 21330003103\n"
          ]
        },
        {
          "data": {
            "text/html": [
              "<span style=\"background-color: rgba(200,200,200,0.2); padding:2px; margin:1px;\">Specimen:</span> <span style=\"background-color: rgba(200,200,200,0.2); padding:2px; margin:1px;\">Dicymbium</span> <span style=\"background-color: rgba(200,200,200,0.2); padding:2px; margin:1px;\">tibiale</span> <span style=\"background-color: rgba(200,200,200,0.2); padding:2px; margin:1px;\">(Blackwall,</span> <span style=\"background-color: rgba(200,200,200,0.2); padding:2px; margin:1px;\">1836).</span> <span style=\"background-color: rgba(200,200,200,0.2); padding:2px; margin:1px;\">Collected</span> <span style=\"background-color: rgba(200,200,200,0.2); padding:2px; margin:1px;\">by</span> <span style=\"background-color: rgba(200,200,200,0.2); padding:2px; margin:1px;\">Frederik</span> <span style=\"background-color: rgba(200,200,200,0.2); padding:2px; margin:1px;\">Hendrickx/</span> <span style=\"background-color: rgba(200,200,200,0.2); padding:2px; margin:1px;\">Sofie</span> <span style=\"background-color: rgba(200,200,200,0.2); padding:2px; margin:1px;\">Thys</span> <span style=\"background-color: rgba(200,200,200,0.2); padding:2px; margin:1px;\">on</span> <span style=\"background-color: rgba(200,200,200,0.2); padding:2px; margin:1px;\">1997-08-03</span> <span style=\"background-color: rgba(200,200,200,0.2); padding:2px; margin:1px;\">in</span> <span style=\"background-color: rgba(255,0,0,0.4); padding:2px; margin:1px;\">Kinrooi,</span> <span style=\"background-color: rgba(200,200,200,0.2); padding:2px; margin:1px;\">Unkn,</span> <span style=\"background-color: rgba(200,200,200,0.2); padding:2px; margin:1px;\">BE.</span> <span style=\"background-color: rgba(200,200,200,0.2); padding:2px; margin:1px;\">Discipline:</span> <span style=\"background-color: rgba(200,200,200,0.2); padding:2px; margin:1px;\">Zoology.</span> "
            ],
            "text/plain": [
              "<IPython.core.display.HTML object>"
            ]
          },
          "metadata": {},
          "output_type": "display_data"
        },
        {
          "name": "stdout",
          "output_type": "stream",
          "text": [
            "\n",
            "✅ Row 226634 — Match! Predicted: 21232320001 | True: 21232320001\n"
          ]
        },
        {
          "data": {
            "text/html": [
              "<span style=\"background-color: rgba(200,200,200,0.2); padding:2px; margin:1px;\">Specimen:</span> <span style=\"background-color: rgba(200,200,200,0.2); padding:2px; margin:1px;\">Biota.</span> <span style=\"background-color: rgba(200,200,200,0.2); padding:2px; margin:1px;\">Collected</span> <span style=\"background-color: rgba(200,200,200,0.2); padding:2px; margin:1px;\">by</span> <span style=\"background-color: rgba(200,200,200,0.2); padding:2px; margin:1px;\">Eksp.</span> <span style=\"background-color: rgba(200,200,200,0.2); padding:2px; margin:1px;\">on</span> <span style=\"background-color: rgba(200,200,200,0.2); padding:2px; margin:1px;\">1968</span> <span style=\"background-color: rgba(200,200,200,0.2); padding:2px; margin:1px;\">in</span> <span style=\"background-color: rgba(200,200,200,0.2); padding:2px; margin:1px;\">Kolka</span> <span style=\"background-color: rgba(200,200,200,0.2); padding:2px; margin:1px;\">54</span> <span style=\"background-color: rgba(200,200,200,0.2); padding:2px; margin:1px;\">borehole,</span> <span style=\"background-color: rgba(200,200,200,0.2); padding:2px; margin:1px;\">Unkn,</span> <span style=\"background-color: rgba(200,200,200,0.2); padding:2px; margin:1px;\">Latvia.</span> <span style=\"background-color: rgba(200,200,200,0.2); padding:2px; margin:1px;\">Discipline:</span> <span style=\"background-color: rgba(200,200,200,0.2); padding:2px; margin:1px;\">Palaeontology.</span> "
            ],
            "text/plain": [
              "<IPython.core.display.HTML object>"
            ]
          },
          "metadata": {},
          "output_type": "display_data"
        },
        {
          "name": "stdout",
          "output_type": "stream",
          "text": [
            "\n",
            "✅ Row 863844 — Match! Predicted: 21323310033 | True: 21323310033\n"
          ]
        },
        {
          "data": {
            "text/html": [
              "<span style=\"background-color: rgba(200,200,200,0.2); padding:2px; margin:1px;\">Specimen:</span> <span style=\"background-color: rgba(200,200,200,0.2); padding:2px; margin:1px;\">Stachys</span> <span style=\"background-color: rgba(200,200,200,0.2); padding:2px; margin:1px;\">palustris</span> <span style=\"background-color: rgba(200,200,200,0.2); padding:2px; margin:1px;\">L..</span> <span style=\"background-color: rgba(200,200,200,0.2); padding:2px; margin:1px;\">Collected</span> <span style=\"background-color: rgba(200,200,200,0.2); padding:2px; margin:1px;\">by</span> <span style=\"background-color: rgba(200,200,200,0.2); padding:2px; margin:1px;\">Unkn</span> <span style=\"background-color: rgba(200,200,200,0.2); padding:2px; margin:1px;\">on</span> <span style=\"background-color: rgba(200,200,200,0.2); padding:2px; margin:1px;\">2019</span> <span style=\"background-color: rgba(200,200,200,0.2); padding:2px; margin:1px;\">in</span> <span style=\"background-color: rgba(200,200,200,0.2); padding:2px; margin:1px;\">Frankfurt</span> <span style=\"background-color: rgba(200,200,200,0.2); padding:2px; margin:1px;\">am</span> <span style=\"background-color: rgba(200,200,200,0.2); padding:2px; margin:1px;\">Main,</span> <span style=\"background-color: rgba(200,200,200,0.2); padding:2px; margin:1px;\">Fechenheimer</span> <span style=\"background-color: rgba(200,200,200,0.2); padding:2px; margin:1px;\">Mainbogen,</span> <span style=\"background-color: rgba(200,200,200,0.2); padding:2px; margin:1px;\">Unkn,</span> <span style=\"background-color: rgba(200,200,200,0.2); padding:2px; margin:1px;\">Germany.</span> <span style=\"background-color: rgba(200,200,200,0.2); padding:2px; margin:1px;\">Discipline:</span> <span style=\"background-color: rgba(200,200,200,0.2); padding:2px; margin:1px;\">Botany.</span> "
            ],
            "text/plain": [
              "<IPython.core.display.HTML object>"
            ]
          },
          "metadata": {},
          "output_type": "display_data"
        },
        {
          "name": "stdout",
          "output_type": "stream",
          "text": [
            "\n",
            "✅ Row 216671 — Match! Predicted: 10221233123 | True: 10221233123\n"
          ]
        },
        {
          "data": {
            "text/html": [
              "<span style=\"background-color: rgba(200,200,200,0.2); padding:2px; margin:1px;\">Specimen:</span> <span style=\"background-color: rgba(200,200,200,0.2); padding:2px; margin:1px;\">Ideopsis</span> <span style=\"background-color: rgba(200,200,200,0.2); padding:2px; margin:1px;\">juventa</span> <span style=\"background-color: rgba(200,200,200,0.2); padding:2px; margin:1px;\">curtisi</span> <span style=\"background-color: rgba(200,200,200,0.2); padding:2px; margin:1px;\">(Moore,</span> <span style=\"background-color: rgba(200,200,200,0.2); padding:2px; margin:1px;\">1883).</span> <span style=\"background-color: rgba(200,200,200,0.2); padding:2px; margin:1px;\">Collected</span> <span style=\"background-color: rgba(200,200,200,0.2); padding:2px; margin:1px;\">by</span> <span style=\"background-color: rgba(200,200,200,0.2); padding:2px; margin:1px;\">Unkn</span> <span style=\"background-color: rgba(200,200,200,0.2); padding:2px; margin:1px;\">on</span> <span style=\"background-color: rgba(200,200,200,0.2); padding:2px; margin:1px;\">Unkn</span> <span style=\"background-color: rgba(200,200,200,0.2); padding:2px; margin:1px;\">in</span> <span style=\"background-color: rgba(200,200,200,0.2); padding:2px; margin:1px;\">Unkn,</span> <span style=\"background-color: rgba(200,200,200,0.2); padding:2px; margin:1px;\">Maluku</span> <span style=\"background-color: rgba(255,0,0,0.4); padding:2px; margin:1px;\">Utara,</span> <span style=\"background-color: rgba(200,200,200,0.2); padding:2px; margin:1px;\">Indonesia.</span> <span style=\"background-color: rgba(200,200,200,0.2); padding:2px; margin:1px;\">Discipline:</span> <span style=\"background-color: rgba(200,200,200,0.2); padding:2px; margin:1px;\">Zoology.</span> "
            ],
            "text/plain": [
              "<IPython.core.display.HTML object>"
            ]
          },
          "metadata": {},
          "output_type": "display_data"
        },
        {
          "name": "stdout",
          "output_type": "stream",
          "text": [
            "\n",
            "✅ Row 195516 — Match! Predicted: 2131310221 | True: 2131310221\n"
          ]
        },
        {
          "data": {
            "text/html": [
              "<span style=\"background-color: rgba(200,200,200,0.2); padding:2px; margin:1px;\">Specimen:</span> <span style=\"background-color: rgba(200,200,200,0.2); padding:2px; margin:1px;\">Oreochromis</span> <span style=\"background-color: rgba(200,200,200,0.2); padding:2px; margin:1px;\">niloticus</span> <span style=\"background-color: rgba(200,200,200,0.2); padding:2px; margin:1px;\">(Linnaeus,</span> <span style=\"background-color: rgba(200,200,200,0.2); padding:2px; margin:1px;\">1758).</span> <span style=\"background-color: rgba(200,200,200,0.2); padding:2px; margin:1px;\">Collected</span> <span style=\"background-color: rgba(200,200,200,0.2); padding:2px; margin:1px;\">by</span> <span style=\"background-color: rgba(200,200,200,0.2); padding:2px; margin:1px;\">Unkn</span> <span style=\"background-color: rgba(200,200,200,0.2); padding:2px; margin:1px;\">on</span> <span style=\"background-color: rgba(200,200,200,0.2); padding:2px; margin:1px;\">1981-8-28-1981-8-29</span> <span style=\"background-color: rgba(200,200,200,0.2); padding:2px; margin:1px;\">in</span> <span style=\"background-color: rgba(200,200,200,0.2); padding:2px; margin:1px;\">baai</span> <span style=\"background-color: rgba(200,200,200,0.2); padding:2px; margin:1px;\">Nyabahanga,</span> <span style=\"background-color: rgba(200,200,200,0.2); padding:2px; margin:1px;\">Kivu</span> <span style=\"background-color: rgba(200,200,200,0.2); padding:2px; margin:1px;\">meer,</span> <span style=\"background-color: rgba(200,200,200,0.2); padding:2px; margin:1px;\">Unkn,</span> <span style=\"background-color: rgba(200,200,200,0.2); padding:2px; margin:1px;\">Rwanda.</span> <span style=\"background-color: rgba(200,200,200,0.2); padding:2px; margin:1px;\">Discipline:</span> <span style=\"background-color: rgba(200,200,200,0.2); padding:2px; margin:1px;\">Zoology.</span> "
            ],
            "text/plain": [
              "<IPython.core.display.HTML object>"
            ]
          },
          "metadata": {},
          "output_type": "display_data"
        },
        {
          "name": "stdout",
          "output_type": "stream",
          "text": [
            "\n",
            "✅ Row 852641 — Match! Predicted: 2011012223 | True: 2011012223\n"
          ]
        },
        {
          "data": {
            "text/html": [
              "<span style=\"background-color: rgba(200,200,200,0.2); padding:2px; margin:1px;\">Specimen:</span> <span style=\"background-color: rgba(200,200,200,0.2); padding:2px; margin:1px;\">Zosterops</span> <span style=\"background-color: rgba(200,200,200,0.2); padding:2px; margin:1px;\">senegalensis</span> <span style=\"background-color: rgba(200,200,200,0.2); padding:2px; margin:1px;\">stierlingi</span> <span style=\"background-color: rgba(200,200,200,0.2); padding:2px; margin:1px;\">Reichenow,</span> <span style=\"background-color: rgba(200,200,200,0.2); padding:2px; margin:1px;\">1899.</span> <span style=\"background-color: rgba(200,200,200,0.2); padding:2px; margin:1px;\">Collected</span> <span style=\"background-color: rgba(200,200,200,0.2); padding:2px; margin:1px;\">by</span> <span style=\"background-color: rgba(200,200,200,0.2); padding:2px; margin:1px;\">Fjeldså,</span> <span style=\"background-color: rgba(200,200,200,0.2); padding:2px; margin:1px;\">J.</span> <span style=\"background-color: rgba(200,200,200,0.2); padding:2px; margin:1px;\">on</span> <span style=\"background-color: rgba(200,200,200,0.2); padding:2px; margin:1px;\">2002-11-24</span> <span style=\"background-color: rgba(200,200,200,0.2); padding:2px; margin:1px;\">in</span> <span style=\"background-color: rgba(200,200,200,0.2); padding:2px; margin:1px;\">Mafwemiro</span> <span style=\"background-color: rgba(200,200,200,0.2); padding:2px; margin:1px;\">Forest,</span> <span style=\"background-color: rgba(200,200,200,0.2); padding:2px; margin:1px;\">Unkn,</span> <span style=\"background-color: rgba(255,0,0,0.4); padding:2px; margin:1px;\">Tanzania.</span> <span style=\"background-color: rgba(200,200,200,0.2); padding:2px; margin:1px;\">Discipline:</span> <span style=\"background-color: rgba(200,200,200,0.2); padding:2px; margin:1px;\">Zoology.</span> "
            ],
            "text/plain": [
              "<IPython.core.display.HTML object>"
            ]
          },
          "metadata": {},
          "output_type": "display_data"
        },
        {
          "name": "stdout",
          "output_type": "stream",
          "text": [
            "\n",
            "✅ Row 836275 — Match! Predicted: 12303331333 | True: 12303331333\n"
          ]
        },
        {
          "data": {
            "text/html": [
              "<span style=\"background-color: rgba(200,200,200,0.2); padding:2px; margin:1px;\">Specimen:</span> <span style=\"background-color: rgba(200,200,200,0.2); padding:2px; margin:1px;\">Batillaria</span> <span style=\"background-color: rgba(200,200,200,0.2); padding:2px; margin:1px;\">multiformis</span> <span style=\"background-color: rgba(200,200,200,0.2); padding:2px; margin:1px;\">(Lischke,</span> <span style=\"background-color: rgba(200,200,200,0.2); padding:2px; margin:1px;\">1869).</span> <span style=\"background-color: rgba(200,200,200,0.2); padding:2px; margin:1px;\">Collected</span> <span style=\"background-color: rgba(200,200,200,0.2); padding:2px; margin:1px;\">by</span> <span style=\"background-color: rgba(200,200,200,0.2); padding:2px; margin:1px;\">Remery</span> <span style=\"background-color: rgba(200,200,200,0.2); padding:2px; margin:1px;\">G.F.M.</span> <span style=\"background-color: rgba(200,200,200,0.2); padding:2px; margin:1px;\">on</span> <span style=\"background-color: rgba(200,200,200,0.2); padding:2px; margin:1px;\">1996-12-03/1996-12-09</span> <span style=\"background-color: rgba(200,200,200,0.2); padding:2px; margin:1px;\">in</span> <span style=\"background-color: rgba(200,200,200,0.2); padding:2px; margin:1px;\">Unkn,</span> <span style=\"background-color: rgba(200,200,200,0.2); padding:2px; margin:1px;\">Kaafu</span> <span style=\"background-color: rgba(200,200,200,0.2); padding:2px; margin:1px;\">Atoll,</span> <span style=\"background-color: rgba(255,0,0,0.4); padding:2px; margin:1px;\">Maldives.</span> <span style=\"background-color: rgba(200,200,200,0.2); padding:2px; margin:1px;\">Discipline:</span> <span style=\"background-color: rgba(200,200,200,0.2); padding:2px; margin:1px;\">Zoology.</span> "
            ],
            "text/plain": [
              "<IPython.core.display.HTML object>"
            ]
          },
          "metadata": {},
          "output_type": "display_data"
        },
        {
          "ename": "KeyboardInterrupt",
          "evalue": "",
          "output_type": "error",
          "traceback": [
            "\u001b[0;31m---------------------------------------------------------------------------\u001b[0m",
            "\u001b[0;31mKeyboardInterrupt\u001b[0m                         Traceback (most recent call last)",
            "\u001b[0;32m<ipython-input-27-5c40bb4f0516>\u001b[0m in \u001b[0;36m<cell line: 0>\u001b[0;34m()\u001b[0m\n\u001b[1;32m      3\u001b[0m     \u001b[0mtrue_label\u001b[0m \u001b[0;34m=\u001b[0m \u001b[0mstr\u001b[0m\u001b[0;34m(\u001b[0m\u001b[0mrow\u001b[0m\u001b[0;34m[\u001b[0m\u001b[0;34m'hierarchical_label'\u001b[0m\u001b[0;34m]\u001b[0m\u001b[0;34m)\u001b[0m  \u001b[0;31m# Make sure it's string for comparison\u001b[0m\u001b[0;34m\u001b[0m\u001b[0;34m\u001b[0m\u001b[0m\n\u001b[1;32m      4\u001b[0m \u001b[0;34m\u001b[0m\u001b[0m\n\u001b[0;32m----> 5\u001b[0;31m     \u001b[0mpredicted_label\u001b[0m\u001b[0;34m,\u001b[0m \u001b[0mimportance_results\u001b[0m \u001b[0;34m=\u001b[0m \u001b[0mlime_style_token_importance\u001b[0m\u001b[0;34m(\u001b[0m\u001b[0mtext\u001b[0m\u001b[0;34m,\u001b[0m \u001b[0mmodel\u001b[0m\u001b[0;34m,\u001b[0m \u001b[0mtokenizer\u001b[0m\u001b[0;34m,\u001b[0m \u001b[0mdevice\u001b[0m\u001b[0;34m)\u001b[0m\u001b[0;34m\u001b[0m\u001b[0;34m\u001b[0m\u001b[0m\n\u001b[0m\u001b[1;32m      6\u001b[0m \u001b[0;34m\u001b[0m\u001b[0m\n\u001b[1;32m      7\u001b[0m     \u001b[0;32mif\u001b[0m \u001b[0mpredicted_label\u001b[0m \u001b[0;34m==\u001b[0m \u001b[0mtrue_label\u001b[0m\u001b[0;34m:\u001b[0m\u001b[0;34m\u001b[0m\u001b[0;34m\u001b[0m\u001b[0m\n",
            "\u001b[0;32m<ipython-input-26-b4be18746600>\u001b[0m in \u001b[0;36mlime_style_token_importance\u001b[0;34m(text, model, tokenizer, device, max_length)\u001b[0m\n\u001b[1;32m     34\u001b[0m         \u001b[0minputs\u001b[0m \u001b[0;34m=\u001b[0m \u001b[0mtokenizer\u001b[0m\u001b[0;34m(\u001b[0m\u001b[0;34m[\u001b[0m\u001b[0mfull_perturbed_input\u001b[0m\u001b[0;34m]\u001b[0m\u001b[0;34m,\u001b[0m \u001b[0mreturn_tensors\u001b[0m\u001b[0;34m=\u001b[0m\u001b[0;34m\"pt\"\u001b[0m\u001b[0;34m,\u001b[0m \u001b[0mtruncation\u001b[0m\u001b[0;34m=\u001b[0m\u001b[0;32mTrue\u001b[0m\u001b[0;34m,\u001b[0m \u001b[0mpadding\u001b[0m\u001b[0;34m=\u001b[0m\u001b[0;32mTrue\u001b[0m\u001b[0;34m)\u001b[0m\u001b[0;34m.\u001b[0m\u001b[0mto\u001b[0m\u001b[0;34m(\u001b[0m\u001b[0mdevice\u001b[0m\u001b[0;34m)\u001b[0m\u001b[0;34m\u001b[0m\u001b[0;34m\u001b[0m\u001b[0m\n\u001b[1;32m     35\u001b[0m         \u001b[0;32mwith\u001b[0m \u001b[0mtorch\u001b[0m\u001b[0;34m.\u001b[0m\u001b[0mno_grad\u001b[0m\u001b[0;34m(\u001b[0m\u001b[0;34m)\u001b[0m\u001b[0;34m:\u001b[0m\u001b[0;34m\u001b[0m\u001b[0;34m\u001b[0m\u001b[0m\n\u001b[0;32m---> 36\u001b[0;31m             \u001b[0moutput_ids\u001b[0m \u001b[0;34m=\u001b[0m \u001b[0mmodel\u001b[0m\u001b[0;34m.\u001b[0m\u001b[0mgenerate\u001b[0m\u001b[0;34m(\u001b[0m\u001b[0;34m**\u001b[0m\u001b[0minputs\u001b[0m\u001b[0;34m,\u001b[0m \u001b[0mmax_length\u001b[0m\u001b[0;34m=\u001b[0m\u001b[0mmax_length\u001b[0m\u001b[0;34m)\u001b[0m\u001b[0;34m\u001b[0m\u001b[0;34m\u001b[0m\u001b[0m\n\u001b[0m\u001b[1;32m     37\u001b[0m         \u001b[0mnew_label\u001b[0m \u001b[0;34m=\u001b[0m \u001b[0mtokenizer\u001b[0m\u001b[0;34m.\u001b[0m\u001b[0mdecode\u001b[0m\u001b[0;34m(\u001b[0m\u001b[0moutput_ids\u001b[0m\u001b[0;34m[\u001b[0m\u001b[0;36m0\u001b[0m\u001b[0;34m]\u001b[0m\u001b[0;34m,\u001b[0m \u001b[0mskip_special_tokens\u001b[0m\u001b[0;34m=\u001b[0m\u001b[0;32mTrue\u001b[0m\u001b[0;34m)\u001b[0m\u001b[0;34m\u001b[0m\u001b[0;34m\u001b[0m\u001b[0m\n\u001b[1;32m     38\u001b[0m         \u001b[0mchanged\u001b[0m \u001b[0;34m=\u001b[0m \u001b[0mnew_label\u001b[0m \u001b[0;34m!=\u001b[0m \u001b[0moriginal_label\u001b[0m\u001b[0;34m\u001b[0m\u001b[0;34m\u001b[0m\u001b[0m\n",
            "\u001b[0;32m/usr/local/lib/python3.11/dist-packages/torch/utils/_contextlib.py\u001b[0m in \u001b[0;36mdecorate_context\u001b[0;34m(*args, **kwargs)\u001b[0m\n\u001b[1;32m    114\u001b[0m     \u001b[0;32mdef\u001b[0m \u001b[0mdecorate_context\u001b[0m\u001b[0;34m(\u001b[0m\u001b[0;34m*\u001b[0m\u001b[0margs\u001b[0m\u001b[0;34m,\u001b[0m \u001b[0;34m**\u001b[0m\u001b[0mkwargs\u001b[0m\u001b[0;34m)\u001b[0m\u001b[0;34m:\u001b[0m\u001b[0;34m\u001b[0m\u001b[0;34m\u001b[0m\u001b[0m\n\u001b[1;32m    115\u001b[0m         \u001b[0;32mwith\u001b[0m \u001b[0mctx_factory\u001b[0m\u001b[0;34m(\u001b[0m\u001b[0;34m)\u001b[0m\u001b[0;34m:\u001b[0m\u001b[0;34m\u001b[0m\u001b[0;34m\u001b[0m\u001b[0m\n\u001b[0;32m--> 116\u001b[0;31m             \u001b[0;32mreturn\u001b[0m \u001b[0mfunc\u001b[0m\u001b[0;34m(\u001b[0m\u001b[0;34m*\u001b[0m\u001b[0margs\u001b[0m\u001b[0;34m,\u001b[0m \u001b[0;34m**\u001b[0m\u001b[0mkwargs\u001b[0m\u001b[0;34m)\u001b[0m\u001b[0;34m\u001b[0m\u001b[0;34m\u001b[0m\u001b[0m\n\u001b[0m\u001b[1;32m    117\u001b[0m \u001b[0;34m\u001b[0m\u001b[0m\n\u001b[1;32m    118\u001b[0m     \u001b[0;32mreturn\u001b[0m \u001b[0mdecorate_context\u001b[0m\u001b[0;34m\u001b[0m\u001b[0;34m\u001b[0m\u001b[0m\n",
            "\u001b[0;32m/usr/local/lib/python3.11/dist-packages/transformers/generation/utils.py\u001b[0m in \u001b[0;36mgenerate\u001b[0;34m(self, inputs, generation_config, logits_processor, stopping_criteria, prefix_allowed_tokens_fn, synced_gpus, assistant_model, streamer, negative_prompt_ids, negative_prompt_attention_mask, use_model_defaults, custom_generate, **kwargs)\u001b[0m\n\u001b[1;32m   2595\u001b[0m \u001b[0;34m\u001b[0m\u001b[0m\n\u001b[1;32m   2596\u001b[0m             \u001b[0;31m# 12. run sample (it degenerates to greedy search when `generation_config.do_sample=False`)\u001b[0m\u001b[0;34m\u001b[0m\u001b[0;34m\u001b[0m\u001b[0m\n\u001b[0;32m-> 2597\u001b[0;31m             result = self._sample(\n\u001b[0m\u001b[1;32m   2598\u001b[0m                 \u001b[0minput_ids\u001b[0m\u001b[0;34m,\u001b[0m\u001b[0;34m\u001b[0m\u001b[0;34m\u001b[0m\u001b[0m\n\u001b[1;32m   2599\u001b[0m                 \u001b[0mlogits_processor\u001b[0m\u001b[0;34m=\u001b[0m\u001b[0mprepared_logits_processor\u001b[0m\u001b[0;34m,\u001b[0m\u001b[0;34m\u001b[0m\u001b[0;34m\u001b[0m\u001b[0m\n",
            "\u001b[0;32m/usr/local/lib/python3.11/dist-packages/transformers/generation/utils.py\u001b[0m in \u001b[0;36m_sample\u001b[0;34m(self, input_ids, logits_processor, stopping_criteria, generation_config, synced_gpus, streamer, **model_kwargs)\u001b[0m\n\u001b[1;32m   3558\u001b[0m                 \u001b[0mis_prefill\u001b[0m \u001b[0;34m=\u001b[0m \u001b[0;32mFalse\u001b[0m\u001b[0;34m\u001b[0m\u001b[0;34m\u001b[0m\u001b[0m\n\u001b[1;32m   3559\u001b[0m             \u001b[0;32melse\u001b[0m\u001b[0;34m:\u001b[0m\u001b[0;34m\u001b[0m\u001b[0;34m\u001b[0m\u001b[0m\n\u001b[0;32m-> 3560\u001b[0;31m                 \u001b[0moutputs\u001b[0m \u001b[0;34m=\u001b[0m \u001b[0mmodel_forward\u001b[0m\u001b[0;34m(\u001b[0m\u001b[0;34m**\u001b[0m\u001b[0mmodel_inputs\u001b[0m\u001b[0;34m,\u001b[0m \u001b[0mreturn_dict\u001b[0m\u001b[0;34m=\u001b[0m\u001b[0;32mTrue\u001b[0m\u001b[0;34m)\u001b[0m\u001b[0;34m\u001b[0m\u001b[0;34m\u001b[0m\u001b[0m\n\u001b[0m\u001b[1;32m   3561\u001b[0m \u001b[0;34m\u001b[0m\u001b[0m\n\u001b[1;32m   3562\u001b[0m             \u001b[0;31m# synced_gpus: don't waste resources running the code we don't need; kwargs must be updated before skipping\u001b[0m\u001b[0;34m\u001b[0m\u001b[0;34m\u001b[0m\u001b[0m\n",
            "\u001b[0;32m/usr/local/lib/python3.11/dist-packages/torch/nn/modules/module.py\u001b[0m in \u001b[0;36m_wrapped_call_impl\u001b[0;34m(self, *args, **kwargs)\u001b[0m\n\u001b[1;32m   1737\u001b[0m             \u001b[0;32mreturn\u001b[0m \u001b[0mself\u001b[0m\u001b[0;34m.\u001b[0m\u001b[0m_compiled_call_impl\u001b[0m\u001b[0;34m(\u001b[0m\u001b[0;34m*\u001b[0m\u001b[0margs\u001b[0m\u001b[0;34m,\u001b[0m \u001b[0;34m**\u001b[0m\u001b[0mkwargs\u001b[0m\u001b[0;34m)\u001b[0m  \u001b[0;31m# type: ignore[misc]\u001b[0m\u001b[0;34m\u001b[0m\u001b[0;34m\u001b[0m\u001b[0m\n\u001b[1;32m   1738\u001b[0m         \u001b[0;32melse\u001b[0m\u001b[0;34m:\u001b[0m\u001b[0;34m\u001b[0m\u001b[0;34m\u001b[0m\u001b[0m\n\u001b[0;32m-> 1739\u001b[0;31m             \u001b[0;32mreturn\u001b[0m \u001b[0mself\u001b[0m\u001b[0;34m.\u001b[0m\u001b[0m_call_impl\u001b[0m\u001b[0;34m(\u001b[0m\u001b[0;34m*\u001b[0m\u001b[0margs\u001b[0m\u001b[0;34m,\u001b[0m \u001b[0;34m**\u001b[0m\u001b[0mkwargs\u001b[0m\u001b[0;34m)\u001b[0m\u001b[0;34m\u001b[0m\u001b[0;34m\u001b[0m\u001b[0m\n\u001b[0m\u001b[1;32m   1740\u001b[0m \u001b[0;34m\u001b[0m\u001b[0m\n\u001b[1;32m   1741\u001b[0m     \u001b[0;31m# torchrec tests the code consistency with the following code\u001b[0m\u001b[0;34m\u001b[0m\u001b[0;34m\u001b[0m\u001b[0m\n",
            "\u001b[0;32m/usr/local/lib/python3.11/dist-packages/torch/nn/modules/module.py\u001b[0m in \u001b[0;36m_call_impl\u001b[0;34m(self, *args, **kwargs)\u001b[0m\n\u001b[1;32m   1748\u001b[0m                 \u001b[0;32mor\u001b[0m \u001b[0m_global_backward_pre_hooks\u001b[0m \u001b[0;32mor\u001b[0m \u001b[0m_global_backward_hooks\u001b[0m\u001b[0;34m\u001b[0m\u001b[0;34m\u001b[0m\u001b[0m\n\u001b[1;32m   1749\u001b[0m                 or _global_forward_hooks or _global_forward_pre_hooks):\n\u001b[0;32m-> 1750\u001b[0;31m             \u001b[0;32mreturn\u001b[0m \u001b[0mforward_call\u001b[0m\u001b[0;34m(\u001b[0m\u001b[0;34m*\u001b[0m\u001b[0margs\u001b[0m\u001b[0;34m,\u001b[0m \u001b[0;34m**\u001b[0m\u001b[0mkwargs\u001b[0m\u001b[0;34m)\u001b[0m\u001b[0;34m\u001b[0m\u001b[0;34m\u001b[0m\u001b[0m\n\u001b[0m\u001b[1;32m   1751\u001b[0m \u001b[0;34m\u001b[0m\u001b[0m\n\u001b[1;32m   1752\u001b[0m         \u001b[0mresult\u001b[0m \u001b[0;34m=\u001b[0m \u001b[0;32mNone\u001b[0m\u001b[0;34m\u001b[0m\u001b[0;34m\u001b[0m\u001b[0m\n",
            "\u001b[0;32m/usr/local/lib/python3.11/dist-packages/transformers/models/t5/modeling_t5.py\u001b[0m in \u001b[0;36mforward\u001b[0;34m(self, input_ids, attention_mask, decoder_input_ids, decoder_attention_mask, head_mask, decoder_head_mask, cross_attn_head_mask, encoder_outputs, past_key_values, inputs_embeds, decoder_inputs_embeds, labels, use_cache, output_attentions, output_hidden_states, return_dict, cache_position)\u001b[0m\n\u001b[1;32m   1809\u001b[0m \u001b[0;34m\u001b[0m\u001b[0m\n\u001b[1;32m   1810\u001b[0m         \u001b[0;31m# Decode\u001b[0m\u001b[0;34m\u001b[0m\u001b[0;34m\u001b[0m\u001b[0m\n\u001b[0;32m-> 1811\u001b[0;31m         decoder_outputs = self.decoder(\n\u001b[0m\u001b[1;32m   1812\u001b[0m             \u001b[0minput_ids\u001b[0m\u001b[0;34m=\u001b[0m\u001b[0mdecoder_input_ids\u001b[0m\u001b[0;34m,\u001b[0m\u001b[0;34m\u001b[0m\u001b[0;34m\u001b[0m\u001b[0m\n\u001b[1;32m   1813\u001b[0m             \u001b[0mattention_mask\u001b[0m\u001b[0;34m=\u001b[0m\u001b[0mdecoder_attention_mask\u001b[0m\u001b[0;34m,\u001b[0m\u001b[0;34m\u001b[0m\u001b[0;34m\u001b[0m\u001b[0m\n",
            "\u001b[0;32m/usr/local/lib/python3.11/dist-packages/torch/nn/modules/module.py\u001b[0m in \u001b[0;36m_wrapped_call_impl\u001b[0;34m(self, *args, **kwargs)\u001b[0m\n\u001b[1;32m   1737\u001b[0m             \u001b[0;32mreturn\u001b[0m \u001b[0mself\u001b[0m\u001b[0;34m.\u001b[0m\u001b[0m_compiled_call_impl\u001b[0m\u001b[0;34m(\u001b[0m\u001b[0;34m*\u001b[0m\u001b[0margs\u001b[0m\u001b[0;34m,\u001b[0m \u001b[0;34m**\u001b[0m\u001b[0mkwargs\u001b[0m\u001b[0;34m)\u001b[0m  \u001b[0;31m# type: ignore[misc]\u001b[0m\u001b[0;34m\u001b[0m\u001b[0;34m\u001b[0m\u001b[0m\n\u001b[1;32m   1738\u001b[0m         \u001b[0;32melse\u001b[0m\u001b[0;34m:\u001b[0m\u001b[0;34m\u001b[0m\u001b[0;34m\u001b[0m\u001b[0m\n\u001b[0;32m-> 1739\u001b[0;31m             \u001b[0;32mreturn\u001b[0m \u001b[0mself\u001b[0m\u001b[0;34m.\u001b[0m\u001b[0m_call_impl\u001b[0m\u001b[0;34m(\u001b[0m\u001b[0;34m*\u001b[0m\u001b[0margs\u001b[0m\u001b[0;34m,\u001b[0m \u001b[0;34m**\u001b[0m\u001b[0mkwargs\u001b[0m\u001b[0;34m)\u001b[0m\u001b[0;34m\u001b[0m\u001b[0;34m\u001b[0m\u001b[0m\n\u001b[0m\u001b[1;32m   1740\u001b[0m \u001b[0;34m\u001b[0m\u001b[0m\n\u001b[1;32m   1741\u001b[0m     \u001b[0;31m# torchrec tests the code consistency with the following code\u001b[0m\u001b[0;34m\u001b[0m\u001b[0;34m\u001b[0m\u001b[0m\n",
            "\u001b[0;32m/usr/local/lib/python3.11/dist-packages/torch/nn/modules/module.py\u001b[0m in \u001b[0;36m_call_impl\u001b[0;34m(self, *args, **kwargs)\u001b[0m\n\u001b[1;32m   1748\u001b[0m                 \u001b[0;32mor\u001b[0m \u001b[0m_global_backward_pre_hooks\u001b[0m \u001b[0;32mor\u001b[0m \u001b[0m_global_backward_hooks\u001b[0m\u001b[0;34m\u001b[0m\u001b[0;34m\u001b[0m\u001b[0m\n\u001b[1;32m   1749\u001b[0m                 or _global_forward_hooks or _global_forward_pre_hooks):\n\u001b[0;32m-> 1750\u001b[0;31m             \u001b[0;32mreturn\u001b[0m \u001b[0mforward_call\u001b[0m\u001b[0;34m(\u001b[0m\u001b[0;34m*\u001b[0m\u001b[0margs\u001b[0m\u001b[0;34m,\u001b[0m \u001b[0;34m**\u001b[0m\u001b[0mkwargs\u001b[0m\u001b[0;34m)\u001b[0m\u001b[0;34m\u001b[0m\u001b[0;34m\u001b[0m\u001b[0m\n\u001b[0m\u001b[1;32m   1751\u001b[0m \u001b[0;34m\u001b[0m\u001b[0m\n\u001b[1;32m   1752\u001b[0m         \u001b[0mresult\u001b[0m \u001b[0;34m=\u001b[0m \u001b[0;32mNone\u001b[0m\u001b[0;34m\u001b[0m\u001b[0;34m\u001b[0m\u001b[0m\n",
            "\u001b[0;32m/usr/local/lib/python3.11/dist-packages/transformers/models/t5/modeling_t5.py\u001b[0m in \u001b[0;36mforward\u001b[0;34m(self, input_ids, attention_mask, encoder_hidden_states, encoder_attention_mask, inputs_embeds, head_mask, cross_attn_head_mask, past_key_values, use_cache, output_attentions, output_hidden_states, return_dict, cache_position)\u001b[0m\n\u001b[1;32m   1122\u001b[0m                 )\n\u001b[1;32m   1123\u001b[0m             \u001b[0;32melse\u001b[0m\u001b[0;34m:\u001b[0m\u001b[0;34m\u001b[0m\u001b[0;34m\u001b[0m\u001b[0m\n\u001b[0;32m-> 1124\u001b[0;31m                 layer_outputs = layer_module(\n\u001b[0m\u001b[1;32m   1125\u001b[0m                     \u001b[0mhidden_states\u001b[0m\u001b[0;34m,\u001b[0m\u001b[0;34m\u001b[0m\u001b[0;34m\u001b[0m\u001b[0m\n\u001b[1;32m   1126\u001b[0m                     \u001b[0mattention_mask\u001b[0m\u001b[0;34m=\u001b[0m\u001b[0mcausal_mask\u001b[0m\u001b[0;34m,\u001b[0m\u001b[0;34m\u001b[0m\u001b[0;34m\u001b[0m\u001b[0m\n",
            "\u001b[0;32m/usr/local/lib/python3.11/dist-packages/torch/nn/modules/module.py\u001b[0m in \u001b[0;36m_wrapped_call_impl\u001b[0;34m(self, *args, **kwargs)\u001b[0m\n\u001b[1;32m   1737\u001b[0m             \u001b[0;32mreturn\u001b[0m \u001b[0mself\u001b[0m\u001b[0;34m.\u001b[0m\u001b[0m_compiled_call_impl\u001b[0m\u001b[0;34m(\u001b[0m\u001b[0;34m*\u001b[0m\u001b[0margs\u001b[0m\u001b[0;34m,\u001b[0m \u001b[0;34m**\u001b[0m\u001b[0mkwargs\u001b[0m\u001b[0;34m)\u001b[0m  \u001b[0;31m# type: ignore[misc]\u001b[0m\u001b[0;34m\u001b[0m\u001b[0;34m\u001b[0m\u001b[0m\n\u001b[1;32m   1738\u001b[0m         \u001b[0;32melse\u001b[0m\u001b[0;34m:\u001b[0m\u001b[0;34m\u001b[0m\u001b[0;34m\u001b[0m\u001b[0m\n\u001b[0;32m-> 1739\u001b[0;31m             \u001b[0;32mreturn\u001b[0m \u001b[0mself\u001b[0m\u001b[0;34m.\u001b[0m\u001b[0m_call_impl\u001b[0m\u001b[0;34m(\u001b[0m\u001b[0;34m*\u001b[0m\u001b[0margs\u001b[0m\u001b[0;34m,\u001b[0m \u001b[0;34m**\u001b[0m\u001b[0mkwargs\u001b[0m\u001b[0;34m)\u001b[0m\u001b[0;34m\u001b[0m\u001b[0;34m\u001b[0m\u001b[0m\n\u001b[0m\u001b[1;32m   1740\u001b[0m \u001b[0;34m\u001b[0m\u001b[0m\n\u001b[1;32m   1741\u001b[0m     \u001b[0;31m# torchrec tests the code consistency with the following code\u001b[0m\u001b[0;34m\u001b[0m\u001b[0;34m\u001b[0m\u001b[0m\n",
            "\u001b[0;32m/usr/local/lib/python3.11/dist-packages/torch/nn/modules/module.py\u001b[0m in \u001b[0;36m_call_impl\u001b[0;34m(self, *args, **kwargs)\u001b[0m\n\u001b[1;32m   1748\u001b[0m                 \u001b[0;32mor\u001b[0m \u001b[0m_global_backward_pre_hooks\u001b[0m \u001b[0;32mor\u001b[0m \u001b[0m_global_backward_hooks\u001b[0m\u001b[0;34m\u001b[0m\u001b[0;34m\u001b[0m\u001b[0m\n\u001b[1;32m   1749\u001b[0m                 or _global_forward_hooks or _global_forward_pre_hooks):\n\u001b[0;32m-> 1750\u001b[0;31m             \u001b[0;32mreturn\u001b[0m \u001b[0mforward_call\u001b[0m\u001b[0;34m(\u001b[0m\u001b[0;34m*\u001b[0m\u001b[0margs\u001b[0m\u001b[0;34m,\u001b[0m \u001b[0;34m**\u001b[0m\u001b[0mkwargs\u001b[0m\u001b[0;34m)\u001b[0m\u001b[0;34m\u001b[0m\u001b[0;34m\u001b[0m\u001b[0m\n\u001b[0m\u001b[1;32m   1751\u001b[0m \u001b[0;34m\u001b[0m\u001b[0m\n\u001b[1;32m   1752\u001b[0m         \u001b[0mresult\u001b[0m \u001b[0;34m=\u001b[0m \u001b[0;32mNone\u001b[0m\u001b[0;34m\u001b[0m\u001b[0;34m\u001b[0m\u001b[0m\n",
            "\u001b[0;32m/usr/local/lib/python3.11/dist-packages/transformers/models/t5/modeling_t5.py\u001b[0m in \u001b[0;36mforward\u001b[0;34m(self, hidden_states, attention_mask, position_bias, encoder_hidden_states, encoder_attention_mask, encoder_decoder_position_bias, layer_head_mask, cross_attn_layer_head_mask, past_key_value, use_cache, output_attentions, return_dict, cache_position)\u001b[0m\n\u001b[1;32m    701\u001b[0m         \u001b[0mdo_cross_attention\u001b[0m \u001b[0;34m=\u001b[0m \u001b[0mself\u001b[0m\u001b[0;34m.\u001b[0m\u001b[0mis_decoder\u001b[0m \u001b[0;32mand\u001b[0m \u001b[0mencoder_hidden_states\u001b[0m \u001b[0;32mis\u001b[0m \u001b[0;32mnot\u001b[0m \u001b[0;32mNone\u001b[0m\u001b[0;34m\u001b[0m\u001b[0;34m\u001b[0m\u001b[0m\n\u001b[1;32m    702\u001b[0m         \u001b[0;32mif\u001b[0m \u001b[0mdo_cross_attention\u001b[0m\u001b[0;34m:\u001b[0m\u001b[0;34m\u001b[0m\u001b[0;34m\u001b[0m\u001b[0m\n\u001b[0;32m--> 703\u001b[0;31m             cross_attention_outputs = self.layer[1](\n\u001b[0m\u001b[1;32m    704\u001b[0m                 \u001b[0mhidden_states\u001b[0m\u001b[0;34m,\u001b[0m\u001b[0;34m\u001b[0m\u001b[0;34m\u001b[0m\u001b[0m\n\u001b[1;32m    705\u001b[0m                 \u001b[0mkey_value_states\u001b[0m\u001b[0;34m=\u001b[0m\u001b[0mencoder_hidden_states\u001b[0m\u001b[0;34m,\u001b[0m\u001b[0;34m\u001b[0m\u001b[0;34m\u001b[0m\u001b[0m\n",
            "\u001b[0;32m/usr/local/lib/python3.11/dist-packages/torch/nn/modules/module.py\u001b[0m in \u001b[0;36m_wrapped_call_impl\u001b[0;34m(self, *args, **kwargs)\u001b[0m\n\u001b[1;32m   1737\u001b[0m             \u001b[0;32mreturn\u001b[0m \u001b[0mself\u001b[0m\u001b[0;34m.\u001b[0m\u001b[0m_compiled_call_impl\u001b[0m\u001b[0;34m(\u001b[0m\u001b[0;34m*\u001b[0m\u001b[0margs\u001b[0m\u001b[0;34m,\u001b[0m \u001b[0;34m**\u001b[0m\u001b[0mkwargs\u001b[0m\u001b[0;34m)\u001b[0m  \u001b[0;31m# type: ignore[misc]\u001b[0m\u001b[0;34m\u001b[0m\u001b[0;34m\u001b[0m\u001b[0m\n\u001b[1;32m   1738\u001b[0m         \u001b[0;32melse\u001b[0m\u001b[0;34m:\u001b[0m\u001b[0;34m\u001b[0m\u001b[0;34m\u001b[0m\u001b[0m\n\u001b[0;32m-> 1739\u001b[0;31m             \u001b[0;32mreturn\u001b[0m \u001b[0mself\u001b[0m\u001b[0;34m.\u001b[0m\u001b[0m_call_impl\u001b[0m\u001b[0;34m(\u001b[0m\u001b[0;34m*\u001b[0m\u001b[0margs\u001b[0m\u001b[0;34m,\u001b[0m \u001b[0;34m**\u001b[0m\u001b[0mkwargs\u001b[0m\u001b[0;34m)\u001b[0m\u001b[0;34m\u001b[0m\u001b[0;34m\u001b[0m\u001b[0m\n\u001b[0m\u001b[1;32m   1740\u001b[0m \u001b[0;34m\u001b[0m\u001b[0m\n\u001b[1;32m   1741\u001b[0m     \u001b[0;31m# torchrec tests the code consistency with the following code\u001b[0m\u001b[0;34m\u001b[0m\u001b[0;34m\u001b[0m\u001b[0m\n",
            "\u001b[0;32m/usr/local/lib/python3.11/dist-packages/torch/nn/modules/module.py\u001b[0m in \u001b[0;36m_call_impl\u001b[0;34m(self, *args, **kwargs)\u001b[0m\n\u001b[1;32m   1748\u001b[0m                 \u001b[0;32mor\u001b[0m \u001b[0m_global_backward_pre_hooks\u001b[0m \u001b[0;32mor\u001b[0m \u001b[0m_global_backward_hooks\u001b[0m\u001b[0;34m\u001b[0m\u001b[0;34m\u001b[0m\u001b[0m\n\u001b[1;32m   1749\u001b[0m                 or _global_forward_hooks or _global_forward_pre_hooks):\n\u001b[0;32m-> 1750\u001b[0;31m             \u001b[0;32mreturn\u001b[0m \u001b[0mforward_call\u001b[0m\u001b[0;34m(\u001b[0m\u001b[0;34m*\u001b[0m\u001b[0margs\u001b[0m\u001b[0;34m,\u001b[0m \u001b[0;34m**\u001b[0m\u001b[0mkwargs\u001b[0m\u001b[0;34m)\u001b[0m\u001b[0;34m\u001b[0m\u001b[0;34m\u001b[0m\u001b[0m\n\u001b[0m\u001b[1;32m   1751\u001b[0m \u001b[0;34m\u001b[0m\u001b[0m\n\u001b[1;32m   1752\u001b[0m         \u001b[0mresult\u001b[0m \u001b[0;34m=\u001b[0m \u001b[0;32mNone\u001b[0m\u001b[0;34m\u001b[0m\u001b[0;34m\u001b[0m\u001b[0m\n",
            "\u001b[0;32m/usr/local/lib/python3.11/dist-packages/transformers/models/t5/modeling_t5.py\u001b[0m in \u001b[0;36mforward\u001b[0;34m(self, hidden_states, key_value_states, attention_mask, position_bias, layer_head_mask, past_key_value, use_cache, query_length, output_attentions, cache_position)\u001b[0m\n\u001b[1;32m    631\u001b[0m     ):\n\u001b[1;32m    632\u001b[0m         \u001b[0mnormed_hidden_states\u001b[0m \u001b[0;34m=\u001b[0m \u001b[0mself\u001b[0m\u001b[0;34m.\u001b[0m\u001b[0mlayer_norm\u001b[0m\u001b[0;34m(\u001b[0m\u001b[0mhidden_states\u001b[0m\u001b[0;34m)\u001b[0m\u001b[0;34m\u001b[0m\u001b[0;34m\u001b[0m\u001b[0m\n\u001b[0;32m--> 633\u001b[0;31m         attention_output = self.EncDecAttention(\n\u001b[0m\u001b[1;32m    634\u001b[0m             \u001b[0mnormed_hidden_states\u001b[0m\u001b[0;34m,\u001b[0m\u001b[0;34m\u001b[0m\u001b[0;34m\u001b[0m\u001b[0m\n\u001b[1;32m    635\u001b[0m             \u001b[0mmask\u001b[0m\u001b[0;34m=\u001b[0m\u001b[0mattention_mask\u001b[0m\u001b[0;34m,\u001b[0m\u001b[0;34m\u001b[0m\u001b[0;34m\u001b[0m\u001b[0m\n",
            "\u001b[0;32m/usr/local/lib/python3.11/dist-packages/torch/nn/modules/module.py\u001b[0m in \u001b[0;36m_wrapped_call_impl\u001b[0;34m(self, *args, **kwargs)\u001b[0m\n\u001b[1;32m   1737\u001b[0m             \u001b[0;32mreturn\u001b[0m \u001b[0mself\u001b[0m\u001b[0;34m.\u001b[0m\u001b[0m_compiled_call_impl\u001b[0m\u001b[0;34m(\u001b[0m\u001b[0;34m*\u001b[0m\u001b[0margs\u001b[0m\u001b[0;34m,\u001b[0m \u001b[0;34m**\u001b[0m\u001b[0mkwargs\u001b[0m\u001b[0;34m)\u001b[0m  \u001b[0;31m# type: ignore[misc]\u001b[0m\u001b[0;34m\u001b[0m\u001b[0;34m\u001b[0m\u001b[0m\n\u001b[1;32m   1738\u001b[0m         \u001b[0;32melse\u001b[0m\u001b[0;34m:\u001b[0m\u001b[0;34m\u001b[0m\u001b[0;34m\u001b[0m\u001b[0m\n\u001b[0;32m-> 1739\u001b[0;31m             \u001b[0;32mreturn\u001b[0m \u001b[0mself\u001b[0m\u001b[0;34m.\u001b[0m\u001b[0m_call_impl\u001b[0m\u001b[0;34m(\u001b[0m\u001b[0;34m*\u001b[0m\u001b[0margs\u001b[0m\u001b[0;34m,\u001b[0m \u001b[0;34m**\u001b[0m\u001b[0mkwargs\u001b[0m\u001b[0;34m)\u001b[0m\u001b[0;34m\u001b[0m\u001b[0;34m\u001b[0m\u001b[0m\n\u001b[0m\u001b[1;32m   1740\u001b[0m \u001b[0;34m\u001b[0m\u001b[0m\n\u001b[1;32m   1741\u001b[0m     \u001b[0;31m# torchrec tests the code consistency with the following code\u001b[0m\u001b[0;34m\u001b[0m\u001b[0;34m\u001b[0m\u001b[0m\n",
            "\u001b[0;32m/usr/local/lib/python3.11/dist-packages/torch/nn/modules/module.py\u001b[0m in \u001b[0;36m_call_impl\u001b[0;34m(self, *args, **kwargs)\u001b[0m\n\u001b[1;32m   1748\u001b[0m                 \u001b[0;32mor\u001b[0m \u001b[0m_global_backward_pre_hooks\u001b[0m \u001b[0;32mor\u001b[0m \u001b[0m_global_backward_hooks\u001b[0m\u001b[0;34m\u001b[0m\u001b[0;34m\u001b[0m\u001b[0m\n\u001b[1;32m   1749\u001b[0m                 or _global_forward_hooks or _global_forward_pre_hooks):\n\u001b[0;32m-> 1750\u001b[0;31m             \u001b[0;32mreturn\u001b[0m \u001b[0mforward_call\u001b[0m\u001b[0;34m(\u001b[0m\u001b[0;34m*\u001b[0m\u001b[0margs\u001b[0m\u001b[0;34m,\u001b[0m \u001b[0;34m**\u001b[0m\u001b[0mkwargs\u001b[0m\u001b[0;34m)\u001b[0m\u001b[0;34m\u001b[0m\u001b[0;34m\u001b[0m\u001b[0m\n\u001b[0m\u001b[1;32m   1751\u001b[0m \u001b[0;34m\u001b[0m\u001b[0m\n\u001b[1;32m   1752\u001b[0m         \u001b[0mresult\u001b[0m \u001b[0;34m=\u001b[0m \u001b[0;32mNone\u001b[0m\u001b[0;34m\u001b[0m\u001b[0;34m\u001b[0m\u001b[0m\n",
            "\u001b[0;32m/usr/local/lib/python3.11/dist-packages/transformers/models/t5/modeling_t5.py\u001b[0m in \u001b[0;36mforward\u001b[0;34m(self, hidden_states, mask, key_value_states, position_bias, past_key_value, layer_head_mask, query_length, use_cache, output_attentions, cache_position)\u001b[0m\n\u001b[1;32m    489\u001b[0m         \u001b[0mis_cross_attention\u001b[0m \u001b[0;34m=\u001b[0m \u001b[0mkey_value_states\u001b[0m \u001b[0;32mis\u001b[0m \u001b[0;32mnot\u001b[0m \u001b[0;32mNone\u001b[0m\u001b[0;34m\u001b[0m\u001b[0;34m\u001b[0m\u001b[0m\n\u001b[1;32m    490\u001b[0m \u001b[0;34m\u001b[0m\u001b[0m\n\u001b[0;32m--> 491\u001b[0;31m         \u001b[0mquery_states\u001b[0m \u001b[0;34m=\u001b[0m \u001b[0mself\u001b[0m\u001b[0;34m.\u001b[0m\u001b[0mq\u001b[0m\u001b[0;34m(\u001b[0m\u001b[0mhidden_states\u001b[0m\u001b[0;34m)\u001b[0m\u001b[0;34m\u001b[0m\u001b[0;34m\u001b[0m\u001b[0m\n\u001b[0m\u001b[1;32m    492\u001b[0m         \u001b[0mquery_states\u001b[0m \u001b[0;34m=\u001b[0m \u001b[0mquery_states\u001b[0m\u001b[0;34m.\u001b[0m\u001b[0mview\u001b[0m\u001b[0;34m(\u001b[0m\u001b[0mbatch_size\u001b[0m\u001b[0;34m,\u001b[0m \u001b[0;34m-\u001b[0m\u001b[0;36m1\u001b[0m\u001b[0;34m,\u001b[0m \u001b[0mself\u001b[0m\u001b[0;34m.\u001b[0m\u001b[0mn_heads\u001b[0m\u001b[0;34m,\u001b[0m \u001b[0mself\u001b[0m\u001b[0;34m.\u001b[0m\u001b[0mkey_value_proj_dim\u001b[0m\u001b[0;34m)\u001b[0m\u001b[0;34m.\u001b[0m\u001b[0mtranspose\u001b[0m\u001b[0;34m(\u001b[0m\u001b[0;36m1\u001b[0m\u001b[0;34m,\u001b[0m \u001b[0;36m2\u001b[0m\u001b[0;34m)\u001b[0m\u001b[0;34m\u001b[0m\u001b[0;34m\u001b[0m\u001b[0m\n\u001b[1;32m    493\u001b[0m \u001b[0;34m\u001b[0m\u001b[0m\n",
            "\u001b[0;32m/usr/local/lib/python3.11/dist-packages/torch/nn/modules/module.py\u001b[0m in \u001b[0;36m__getattr__\u001b[0;34m(self, name)\u001b[0m\n\u001b[1;32m   1913\u001b[0m     \u001b[0;31m# on `torch.nn.Module` and all its subclasses is largely disabled as a result. See:\u001b[0m\u001b[0;34m\u001b[0m\u001b[0;34m\u001b[0m\u001b[0m\n\u001b[1;32m   1914\u001b[0m     \u001b[0;31m# https://github.com/pytorch/pytorch/pull/115074\u001b[0m\u001b[0;34m\u001b[0m\u001b[0;34m\u001b[0m\u001b[0m\n\u001b[0;32m-> 1915\u001b[0;31m     \u001b[0;32mdef\u001b[0m \u001b[0m__getattr__\u001b[0m\u001b[0;34m(\u001b[0m\u001b[0mself\u001b[0m\u001b[0;34m,\u001b[0m \u001b[0mname\u001b[0m\u001b[0;34m:\u001b[0m \u001b[0mstr\u001b[0m\u001b[0;34m)\u001b[0m \u001b[0;34m->\u001b[0m \u001b[0mUnion\u001b[0m\u001b[0;34m[\u001b[0m\u001b[0mTensor\u001b[0m\u001b[0;34m,\u001b[0m \u001b[0;34m\"Module\"\u001b[0m\u001b[0;34m]\u001b[0m\u001b[0;34m:\u001b[0m\u001b[0;34m\u001b[0m\u001b[0;34m\u001b[0m\u001b[0m\n\u001b[0m\u001b[1;32m   1916\u001b[0m         \u001b[0;32mif\u001b[0m \u001b[0;34m\"_parameters\"\u001b[0m \u001b[0;32min\u001b[0m \u001b[0mself\u001b[0m\u001b[0;34m.\u001b[0m\u001b[0m__dict__\u001b[0m\u001b[0;34m:\u001b[0m\u001b[0;34m\u001b[0m\u001b[0;34m\u001b[0m\u001b[0m\n\u001b[1;32m   1917\u001b[0m             \u001b[0m_parameters\u001b[0m \u001b[0;34m=\u001b[0m \u001b[0mself\u001b[0m\u001b[0;34m.\u001b[0m\u001b[0m__dict__\u001b[0m\u001b[0;34m[\u001b[0m\u001b[0;34m\"_parameters\"\u001b[0m\u001b[0;34m]\u001b[0m\u001b[0;34m\u001b[0m\u001b[0;34m\u001b[0m\u001b[0m\n",
            "\u001b[0;31mKeyboardInterrupt\u001b[0m: "
          ]
        }
      ],
      "source": [
        "for idx, row in df_val.iterrows():\n",
        "    text = row['text_combined']\n",
        "    true_label = str(row['hierarchical_label'])  # make sure it's string for comparison\n",
        "\n",
        "    predicted_label, importance_results = lime_style_token_importance(text, model, tokenizer, device)\n",
        "\n",
        "    if predicted_label == true_label:\n",
        "        print(f\"\\n✅ Row {idx} — Match! Predicted: {predicted_label} | True: {true_label}\")\n",
        "        visualize_token_importance(text, importance_results)\n",
        "    else:\n",
        "        None\n"
      ]
    }
  ],
  "metadata": {
    "accelerator": "GPU",
    "colab": {
      "gpuType": "T4",
      "provenance": []
    },
    "kernelspec": {
      "display_name": "thesis",
      "language": "python",
      "name": "python3"
    },
    "language_info": {
      "codemirror_mode": {
        "name": "ipython",
        "version": 3
      },
      "file_extension": ".py",
      "mimetype": "text/x-python",
      "name": "python",
      "nbconvert_exporter": "python",
      "pygments_lexer": "ipython3",
      "version": "3.12.9"
    }
  },
  "nbformat": 4,
  "nbformat_minor": 0
}
